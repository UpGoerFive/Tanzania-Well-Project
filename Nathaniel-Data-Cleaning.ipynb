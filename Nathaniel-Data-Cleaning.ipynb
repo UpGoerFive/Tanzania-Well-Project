{
 "cells": [
  {
   "cell_type": "code",
   "execution_count": 1,
   "metadata": {},
   "outputs": [],
   "source": [
    "import pandas as pd\n",
    "import numpy as np\n",
    "import seaborn as sns\n",
    "import logging\n",
    "from sklearnex import patch_sklearn\n",
    "patch_sklearn(verbose=False)\n",
    "from sklearn.preprocessing import OneHotEncoder, OrdinalEncoder, StandardScaler, LabelEncoder\n",
    "from sklearn.impute import SimpleImputer\n",
    "from sklearn.pipeline import Pipeline\n",
    "from sklearn.model_selection import train_test_split, cross_val_score\n",
    "from sklearn.neighbors import KNeighborsClassifier\n",
    "from sklearn.compose import ColumnTransformer, make_column_selector\n",
    "from sklearn.ensemble import RandomForestClassifier\n",
    "import ourfunctions"
   ]
  },
  {
   "cell_type": "code",
   "execution_count": 2,
   "metadata": {},
   "outputs": [],
   "source": [
    "X = pd.read_csv('data/Training-set-values.csv')\n",
    "y = pd.read_csv('data/Training-set-labels.csv')\n",
    "y = pd.DataFrame(LabelEncoder().fit_transform(y.status_group))\n",
    "\n",
    "X['date_recorded'] = pd.to_datetime(X['date_recorded']).astype(np.int64)\n",
    "\n",
    "X_train, X_test, y_train, y_test = train_test_split(X, y, test_size=0.25, random_state = 829941045)"
   ]
  },
  {
   "cell_type": "code",
   "execution_count": 3,
   "metadata": {},
   "outputs": [],
   "source": [
    "model_run = ourfunctions.Modeler(X=X, y=y)"
   ]
  },
  {
   "cell_type": "markdown",
   "metadata": {},
   "source": [
    "#### Basic KNN model\n",
    "\n",
    "Includes normal cross validate for comparison, to show class working as expected.\n"
   ]
  },
  {
   "cell_type": "code",
   "execution_count": 4,
   "metadata": {},
   "outputs": [],
   "source": [
    "numeric_transformer = Pipeline(\n",
    "    steps=[('imputer', SimpleImputer(strategy='median'))]\n",
    ")\n",
    "\n",
    "numeric_preprocessor = ColumnTransformer(\n",
    "    transformers=[\n",
    "        (\"numeric\", numeric_transformer, make_column_selector(dtype_include=np.number)),\n",
    "    ]\n",
    ")"
   ]
  },
  {
   "cell_type": "code",
   "execution_count": 5,
   "metadata": {},
   "outputs": [],
   "source": [
    "knn = {'classifier': KNeighborsClassifier(), 'preprocessor': numeric_preprocessor}\n",
    "\n",
    "model_run.add_model('KNN', knn)"
   ]
  },
  {
   "cell_type": "code",
   "execution_count": 6,
   "metadata": {},
   "outputs": [
    {
     "data": {
      "text/plain": [
       "array([0.52839506, 0.51795735, 0.52177329, 0.52267116, 0.52457912])"
      ]
     },
     "execution_count": 6,
     "metadata": {},
     "output_type": "execute_result"
    }
   ],
   "source": [
    "\n",
    "cross_val_score(estimator=KNeighborsClassifier(),\n",
    "                X=numeric_preprocessor.fit_transform(X_train), \n",
    "                y=y_train)\n"
   ]
  },
  {
   "cell_type": "code",
   "execution_count": 7,
   "metadata": {},
   "outputs": [],
   "source": [
    "model_run.train_all()"
   ]
  },
  {
   "cell_type": "markdown",
   "metadata": {},
   "source": [
    "### Random Forest Attempt"
   ]
  },
  {
   "cell_type": "code",
   "execution_count": 8,
   "metadata": {},
   "outputs": [],
   "source": [
    "RandomFM = {'classifier': RandomForestClassifier(max_depth=20, min_samples_split=4), 'preprocessor': numeric_preprocessor}\n",
    "model_run.add_model('RandomForestNew', RandomFM)"
   ]
  },
  {
   "cell_type": "code",
   "execution_count": 9,
   "metadata": {},
   "outputs": [
    {
     "name": "stderr",
     "output_type": "stream",
     "text": [
      "root - INFO - sklearn.ensemble.RandomForestClassifier.fit: running accelerated version on CPU\n",
      "root - INFO - RandomForestNew has been fit.\n",
      "root - INFO - sklearn.ensemble.RandomForestClassifier.fit: running accelerated version on CPU\n",
      "root - INFO - sklearn.ensemble.RandomForestClassifier.predict: running accelerated version on CPU\n",
      "root - INFO - sklearn.ensemble.RandomForestClassifier.fit: running accelerated version on CPU\n",
      "root - INFO - sklearn.ensemble.RandomForestClassifier.predict: running accelerated version on CPU\n",
      "root - INFO - sklearn.ensemble.RandomForestClassifier.fit: running accelerated version on CPU\n",
      "root - INFO - sklearn.ensemble.RandomForestClassifier.predict: running accelerated version on CPU\n",
      "root - INFO - sklearn.ensemble.RandomForestClassifier.fit: running accelerated version on CPU\n",
      "root - INFO - sklearn.ensemble.RandomForestClassifier.predict: running accelerated version on CPU\n",
      "root - INFO - sklearn.ensemble.RandomForestClassifier.fit: running accelerated version on CPU\n",
      "root - INFO - sklearn.ensemble.RandomForestClassifier.predict: running accelerated version on CPU\n",
      "root - INFO - Cross validate scores for RandomForestNew: [0.70740741 0.70460157 0.71391695 0.70909091 0.70482604]\n"
     ]
    }
   ],
   "source": [
    "model_run.train_model('RandomForestNew')"
   ]
  },
  {
   "cell_type": "code",
   "execution_count": 31,
   "metadata": {},
   "outputs": [],
   "source": [
    "from sklearn.preprocessing import FunctionTransformer\n",
    "\n",
    "def to_object(x):\n",
    "  return pd.DataFrame(x).astype(str)\n",
    "\n",
    "fun_tr = FunctionTransformer(to_object)\n",
    "\n",
    "numeric_transformer = Pipeline(\n",
    "    steps=[('imputer', SimpleImputer(strategy='median'))]\n",
    ")\n",
    "\n",
    "categorical_transformer = Pipeline(\n",
    "    steps=[('imputer', SimpleImputer(strategy='constant', fill_value='Missing')),\n",
    "           ('casting', fun_tr),\n",
    "           ('one_hot_encode', OneHotEncoder(handle_unknown='ignore'))]\n",
    ")\n",
    "\n",
    "total_preprocessor = ColumnTransformer(\n",
    "    transformers=[\n",
    "        (\"numeric\", numeric_transformer, make_column_selector(dtype_include=np.number)),\n",
    "        (\"categorical\", categorical_transformer, make_column_selector(dtype_exclude=np.number))\n",
    "    ]\n",
    ")"
   ]
  },
  {
   "cell_type": "code",
   "execution_count": 32,
   "metadata": {},
   "outputs": [],
   "source": [
    "RandomFM = {'classifier': RandomForestClassifier(max_depth=20, min_samples_split=4), 'preprocessor': total_preprocessor}\n",
    "model_run.add_model('RandomForestMore', RandomFM)"
   ]
  },
  {
   "cell_type": "code",
   "execution_count": 33,
   "metadata": {},
   "outputs": [
    {
     "name": "stderr",
     "output_type": "stream",
     "text": [
      "root - INFO - sklearn.ensemble.RandomForestClassifier.fit: fallback to original Scikit-learn\n",
      "root - INFO - RandomForestMore has been fit.\n",
      "root - INFO - sklearn.ensemble.RandomForestClassifier.fit: fallback to original Scikit-learn\n",
      "root - INFO - sklearn.ensemble.RandomForestClassifier.predict: fallback to original Scikit-learn\n",
      "root - INFO - sklearn.ensemble.RandomForestClassifier.predict_proba: fallback to original Scikit-learn\n",
      "root - INFO - sklearn.ensemble.RandomForestClassifier.fit: fallback to original Scikit-learn\n",
      "root - INFO - sklearn.ensemble.RandomForestClassifier.predict: fallback to original Scikit-learn\n",
      "root - INFO - sklearn.ensemble.RandomForestClassifier.predict_proba: fallback to original Scikit-learn\n",
      "root - INFO - sklearn.ensemble.RandomForestClassifier.fit: fallback to original Scikit-learn\n",
      "root - INFO - sklearn.ensemble.RandomForestClassifier.predict: fallback to original Scikit-learn\n",
      "root - INFO - sklearn.ensemble.RandomForestClassifier.predict_proba: fallback to original Scikit-learn\n",
      "root - INFO - sklearn.ensemble.RandomForestClassifier.fit: fallback to original Scikit-learn\n",
      "root - INFO - sklearn.ensemble.RandomForestClassifier.predict: fallback to original Scikit-learn\n",
      "root - INFO - sklearn.ensemble.RandomForestClassifier.predict_proba: fallback to original Scikit-learn\n",
      "root - INFO - sklearn.ensemble.RandomForestClassifier.fit: fallback to original Scikit-learn\n",
      "root - INFO - sklearn.ensemble.RandomForestClassifier.predict: fallback to original Scikit-learn\n",
      "root - INFO - sklearn.ensemble.RandomForestClassifier.predict_proba: fallback to original Scikit-learn\n",
      "root - INFO - Cross validate scores for RandomForestMore: [0.72514029 0.72525253 0.72323232 0.72177329 0.71470258]\n"
     ]
    }
   ],
   "source": [
    "model_run.train_model('RandomForestMore')"
   ]
  },
  {
   "cell_type": "code",
   "execution_count": null,
   "metadata": {},
   "outputs": [],
   "source": []
  }
 ],
 "metadata": {
  "interpreter": {
   "hash": "a8985f70e60044e6b9ee20c3abf47b95903615267cecf7f0794b337aafc6df41"
  },
  "kernelspec": {
   "display_name": "Python 3.8.5 64-bit ('learn-env': conda)",
   "language": "python",
   "name": "python3"
  },
  "language_info": {
   "codemirror_mode": {
    "name": "ipython",
    "version": 3
   },
   "file_extension": ".py",
   "mimetype": "text/x-python",
   "name": "python",
   "nbconvert_exporter": "python",
   "pygments_lexer": "ipython3",
   "version": "3.8.5"
  },
  "orig_nbformat": 4
 },
 "nbformat": 4,
 "nbformat_minor": 2
}
