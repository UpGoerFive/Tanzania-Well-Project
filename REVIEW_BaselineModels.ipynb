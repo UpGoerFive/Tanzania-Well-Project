{
 "cells": [
  {
   "cell_type": "code",
   "execution_count": 8,
   "metadata": {},
   "outputs": [],
   "source": [
    "import pandas as pd\n",
    "import numpy as np\n",
    "from matplotlib import pyplot as plt\n",
    "import seaborn as sns\n",
    "\n",
    "from sklearn.model_selection import train_test_split, GridSearchCV, cross_val_score\n",
    "from sklearn.pipeline import Pipeline\n",
    "from sklearn.preprocessing import StandardScaler, LabelEncoder, OneHotEncoder, FunctionTransformer\n",
    "from sklearn.impute import SimpleImputer\n",
    "from sklearn.compose import ColumnTransformer\n",
    "from sklearn.linear_model import LogisticRegression\n",
    "from sklearn.metrics import plot_confusion_matrix, recall_score\n",
    "    accuracy_score, precision_score, f1_score\n",
    "from sklearn.tree import DecisionTreeClassifier\n",
    "\n",
    "from imblearn.over_sampling import SMOTE\n",
    "from imblearn.pipeline import Pipeline as ImPipeline\n",
    "#import ourfunctions as func"
   ]
  },
  {
   "cell_type": "code",
   "execution_count": 2,
   "metadata": {},
   "outputs": [],
   "source": [
    "X = pd.read_csv('data/Training-set-values.csv')\n",
    "y = pd.read_csv('data/Training-set-labels.csv')"
   ]
  },
  {
   "cell_type": "code",
   "execution_count": 3,
   "metadata": {},
   "outputs": [],
   "source": [
    "drop_cols = ['subvillage',\n",
    " 'region',\n",
    " 'lga',\n",
    " 'ward',\n",
    " 'extraction_type_group',\n",
    " 'extraction_type_class',\n",
    " 'source_type',\n",
    " 'waterpoint_type_group',\n",
    " 'scheme_name',\n",
    " 'payment',\n",
    " 'quantity_group',\n",
    " 'waterpoint_type_group',\n",
    " 'recorded_by',\n",
    " 'num_private',\n",
    " 'id']"
   ]
  },
  {
   "cell_type": "code",
   "execution_count": 4,
   "metadata": {},
   "outputs": [],
   "source": [
    "df = pd.concat([X.drop(columns=drop_cols), y.drop(columns='id')], axis=1)"
   ]
  },
  {
   "cell_type": "code",
   "execution_count": 5,
   "metadata": {},
   "outputs": [],
   "source": [
    "predictors = df.drop('status_group', axis = 1)\n",
    "target = df['status_group']\n",
    "target = LabelEncoder().fit_transform(target)\n"
   ]
  },
  {
   "cell_type": "code",
   "execution_count": 6,
   "metadata": {},
   "outputs": [
    {
     "data": {
      "text/plain": [
       "0    0.543081\n",
       "2    0.384242\n",
       "1    0.072677\n",
       "dtype: float64"
      ]
     },
     "execution_count": 6,
     "metadata": {},
     "output_type": "execute_result"
    }
   ],
   "source": [
    "pd.Series(target).value_counts(1)"
   ]
  },
  {
   "cell_type": "code",
   "execution_count": 10,
   "metadata": {},
   "outputs": [
    {
     "name": "stdout",
     "output_type": "stream",
     "text": [
      "num_features:\n",
      "['amount_tsh', 'gps_height', 'longitude', 'latitude', 'region_code', 'district_code', 'population', 'construction_year']\n",
      " \n",
      "cat_features:\n",
      "['date_recorded', 'funder', 'installer', 'wpt_name', 'basin', 'public_meeting', 'scheme_management', 'permit', 'extraction_type', 'management', 'management_group', 'payment_type', 'water_quality', 'quality_group', 'quantity', 'source', 'source_class', 'waterpoint_type']\n"
     ]
    }
   ],
   "source": [
    "num_features = list(predictors.select_dtypes(include=['float', 'int']))\n",
    "cat_features = list(predictors.select_dtypes(include=['object']))\n",
    "print('num_features:')\n",
    "print(num_features)\n",
    "print(' ')\n",
    "print('cat_features:')\n",
    "print(cat_features)"
   ]
  },
  {
   "cell_type": "code",
   "execution_count": 9,
   "metadata": {},
   "outputs": [],
   "source": [
    "def model_info(model, X_test, y_test):\n",
    "    ''' Model information is used to create a classification report, \n",
    "    confusion matrix, roc curve, and when needed a feature importance\n",
    "    visualization. \n",
    "    \n",
    "    Args:\n",
    "       model: model used\n",
    "       X_test: x test\n",
    "       y_test: y test\n",
    "       \n",
    "    Returns:\n",
    "        Classification Report\n",
    "        Confusion Matrix\n",
    "        ROC Curve\n",
    "        Feature Importance\n",
    "        \n",
    "    Example: model_info(decision_tree, X_test, y_test)'''\n",
    "\n",
    "    model.fit(X_train, y_train)\n",
    "    predict = model.predict(X_test)\n",
    "    print(\"Testing Accuracy for Classifier: {:.4}%\".format(\n",
    "    accuracy_score(y_test, predict) * 100))\n",
    "    print('---' * 20)\n",
    "\n",
    "    #classification report\n",
    "    print('CLASSIFICATION REPORT')\n",
    "    print('---' * 20)\n",
    "    print(classification_report(y_test, predict, target_names\n",
    "                                = [\"Functional\", \"Functional, needs repair\", \n",
    "                                   \"Not functional\"]))\n",
    "    \n",
    "    print('---' * 20)\n",
    "    with plt.style.context('seaborn-notebook'):\n",
    "        fig, axes = plt.subplots(figsize = (8,8), nrows = 2)\n",
    "        sns.set_palette(\"Blues\")\n",
    "\n",
    "        #confusion matrix\n",
    "        conf = plot_confusion_matrix(model, X_test, y_test, cmap = plt.cm.Blues, \n",
    "                                     display_labels = [\"Functional\",\n",
    "                                                       \"Functional, needs repair\",\n",
    "                                                       \"Not functional\"], ax=axes[0],\n",
    "                                    normalize = 'true');\n",
    "        conf.ax_.set_title('CONFUSION MATRIX');\n",
    "\n",
    "        #roc curve need to use Yellow Brick\n",
    "        visualizer = ROCAUC(model, classes=[\"Functional\", \n",
    "                                               \"Functional, needs repair\", \n",
    "                                               \"Not functional\"], ax=axes[1])\n",
    "\n",
    "        visualizer.fit(X_train, y_train)        \n",
    "        visualizer.score(X_test, y_test) \n",
    "        axes[1].plot([0,1],[0,1],ls=':')\n",
    "        axes[1].grid()\n",
    "        axes[1].set_title('ROC CURVE')\n",
    "        fig.tight_layout()\n",
    "        visualizer.show()\n",
    "\n",
    "        #adding feature importance \n",
    "        try:\n",
    "            print('---' *20)\n",
    "            #print('FEATURE IMPORTANCE')\n",
    "            #feature importance\n",
    "            feat_import = pd.Series(model.feature_importances_,index=X_train.columns)\n",
    "            feat_import.sort_values().tail(20).plot(kind='barh').set_title('FEATURE IMPORTANCE')\n",
    "        except:\n",
    "            pass"
   ]
  },
  {
   "cell_type": "code",
   "execution_count": 11,
   "metadata": {},
   "outputs": [
    {
     "data": {
      "text/html": [
       "<div>\n",
       "<style scoped>\n",
       "    .dataframe tbody tr th:only-of-type {\n",
       "        vertical-align: middle;\n",
       "    }\n",
       "\n",
       "    .dataframe tbody tr th {\n",
       "        vertical-align: top;\n",
       "    }\n",
       "\n",
       "    .dataframe thead th {\n",
       "        text-align: right;\n",
       "    }\n",
       "</style>\n",
       "<table border=\"1\" class=\"dataframe\">\n",
       "  <thead>\n",
       "    <tr style=\"text-align: right;\">\n",
       "      <th></th>\n",
       "      <th>amount_tsh</th>\n",
       "      <th>gps_height</th>\n",
       "      <th>longitude</th>\n",
       "      <th>latitude</th>\n",
       "      <th>region_code</th>\n",
       "      <th>district_code</th>\n",
       "      <th>population</th>\n",
       "      <th>construction_year</th>\n",
       "      <th>status_group</th>\n",
       "      <th>date_recorded_2002-10-14</th>\n",
       "      <th>...</th>\n",
       "      <th>source_class_groundwater</th>\n",
       "      <th>source_class_surface</th>\n",
       "      <th>source_class_unknown</th>\n",
       "      <th>waterpoint_type_cattle trough</th>\n",
       "      <th>waterpoint_type_communal standpipe</th>\n",
       "      <th>waterpoint_type_communal standpipe multiple</th>\n",
       "      <th>waterpoint_type_dam</th>\n",
       "      <th>waterpoint_type_hand pump</th>\n",
       "      <th>waterpoint_type_improved spring</th>\n",
       "      <th>waterpoint_type_other</th>\n",
       "    </tr>\n",
       "  </thead>\n",
       "  <tbody>\n",
       "    <tr>\n",
       "      <th>0</th>\n",
       "      <td>6000.0</td>\n",
       "      <td>1390</td>\n",
       "      <td>34.938093</td>\n",
       "      <td>-9.856322</td>\n",
       "      <td>11</td>\n",
       "      <td>5</td>\n",
       "      <td>109</td>\n",
       "      <td>1999</td>\n",
       "      <td>functional</td>\n",
       "      <td>0</td>\n",
       "      <td>...</td>\n",
       "      <td>1</td>\n",
       "      <td>0</td>\n",
       "      <td>0</td>\n",
       "      <td>0</td>\n",
       "      <td>1</td>\n",
       "      <td>0</td>\n",
       "      <td>0</td>\n",
       "      <td>0</td>\n",
       "      <td>0</td>\n",
       "      <td>0</td>\n",
       "    </tr>\n",
       "    <tr>\n",
       "      <th>1</th>\n",
       "      <td>0.0</td>\n",
       "      <td>1399</td>\n",
       "      <td>34.698766</td>\n",
       "      <td>-2.147466</td>\n",
       "      <td>20</td>\n",
       "      <td>2</td>\n",
       "      <td>280</td>\n",
       "      <td>2010</td>\n",
       "      <td>functional</td>\n",
       "      <td>0</td>\n",
       "      <td>...</td>\n",
       "      <td>0</td>\n",
       "      <td>1</td>\n",
       "      <td>0</td>\n",
       "      <td>0</td>\n",
       "      <td>1</td>\n",
       "      <td>0</td>\n",
       "      <td>0</td>\n",
       "      <td>0</td>\n",
       "      <td>0</td>\n",
       "      <td>0</td>\n",
       "    </tr>\n",
       "    <tr>\n",
       "      <th>2</th>\n",
       "      <td>25.0</td>\n",
       "      <td>686</td>\n",
       "      <td>37.460664</td>\n",
       "      <td>-3.821329</td>\n",
       "      <td>21</td>\n",
       "      <td>4</td>\n",
       "      <td>250</td>\n",
       "      <td>2009</td>\n",
       "      <td>functional</td>\n",
       "      <td>0</td>\n",
       "      <td>...</td>\n",
       "      <td>0</td>\n",
       "      <td>1</td>\n",
       "      <td>0</td>\n",
       "      <td>0</td>\n",
       "      <td>0</td>\n",
       "      <td>1</td>\n",
       "      <td>0</td>\n",
       "      <td>0</td>\n",
       "      <td>0</td>\n",
       "      <td>0</td>\n",
       "    </tr>\n",
       "    <tr>\n",
       "      <th>3</th>\n",
       "      <td>0.0</td>\n",
       "      <td>263</td>\n",
       "      <td>38.486161</td>\n",
       "      <td>-11.155298</td>\n",
       "      <td>90</td>\n",
       "      <td>63</td>\n",
       "      <td>58</td>\n",
       "      <td>1986</td>\n",
       "      <td>non functional</td>\n",
       "      <td>0</td>\n",
       "      <td>...</td>\n",
       "      <td>1</td>\n",
       "      <td>0</td>\n",
       "      <td>0</td>\n",
       "      <td>0</td>\n",
       "      <td>0</td>\n",
       "      <td>1</td>\n",
       "      <td>0</td>\n",
       "      <td>0</td>\n",
       "      <td>0</td>\n",
       "      <td>0</td>\n",
       "    </tr>\n",
       "    <tr>\n",
       "      <th>4</th>\n",
       "      <td>0.0</td>\n",
       "      <td>0</td>\n",
       "      <td>31.130847</td>\n",
       "      <td>-1.825359</td>\n",
       "      <td>18</td>\n",
       "      <td>1</td>\n",
       "      <td>0</td>\n",
       "      <td>0</td>\n",
       "      <td>functional</td>\n",
       "      <td>0</td>\n",
       "      <td>...</td>\n",
       "      <td>0</td>\n",
       "      <td>1</td>\n",
       "      <td>0</td>\n",
       "      <td>0</td>\n",
       "      <td>1</td>\n",
       "      <td>0</td>\n",
       "      <td>0</td>\n",
       "      <td>0</td>\n",
       "      <td>0</td>\n",
       "      <td>0</td>\n",
       "    </tr>\n",
       "    <tr>\n",
       "      <th>...</th>\n",
       "      <td>...</td>\n",
       "      <td>...</td>\n",
       "      <td>...</td>\n",
       "      <td>...</td>\n",
       "      <td>...</td>\n",
       "      <td>...</td>\n",
       "      <td>...</td>\n",
       "      <td>...</td>\n",
       "      <td>...</td>\n",
       "      <td>...</td>\n",
       "      <td>...</td>\n",
       "      <td>...</td>\n",
       "      <td>...</td>\n",
       "      <td>...</td>\n",
       "      <td>...</td>\n",
       "      <td>...</td>\n",
       "      <td>...</td>\n",
       "      <td>...</td>\n",
       "      <td>...</td>\n",
       "      <td>...</td>\n",
       "      <td>...</td>\n",
       "    </tr>\n",
       "    <tr>\n",
       "      <th>59395</th>\n",
       "      <td>10.0</td>\n",
       "      <td>1210</td>\n",
       "      <td>37.169807</td>\n",
       "      <td>-3.253847</td>\n",
       "      <td>3</td>\n",
       "      <td>5</td>\n",
       "      <td>125</td>\n",
       "      <td>1999</td>\n",
       "      <td>functional</td>\n",
       "      <td>0</td>\n",
       "      <td>...</td>\n",
       "      <td>1</td>\n",
       "      <td>0</td>\n",
       "      <td>0</td>\n",
       "      <td>0</td>\n",
       "      <td>1</td>\n",
       "      <td>0</td>\n",
       "      <td>0</td>\n",
       "      <td>0</td>\n",
       "      <td>0</td>\n",
       "      <td>0</td>\n",
       "    </tr>\n",
       "    <tr>\n",
       "      <th>59396</th>\n",
       "      <td>4700.0</td>\n",
       "      <td>1212</td>\n",
       "      <td>35.249991</td>\n",
       "      <td>-9.070629</td>\n",
       "      <td>11</td>\n",
       "      <td>4</td>\n",
       "      <td>56</td>\n",
       "      <td>1996</td>\n",
       "      <td>functional</td>\n",
       "      <td>0</td>\n",
       "      <td>...</td>\n",
       "      <td>0</td>\n",
       "      <td>1</td>\n",
       "      <td>0</td>\n",
       "      <td>0</td>\n",
       "      <td>1</td>\n",
       "      <td>0</td>\n",
       "      <td>0</td>\n",
       "      <td>0</td>\n",
       "      <td>0</td>\n",
       "      <td>0</td>\n",
       "    </tr>\n",
       "    <tr>\n",
       "      <th>59397</th>\n",
       "      <td>0.0</td>\n",
       "      <td>0</td>\n",
       "      <td>34.017087</td>\n",
       "      <td>-8.750434</td>\n",
       "      <td>12</td>\n",
       "      <td>7</td>\n",
       "      <td>0</td>\n",
       "      <td>0</td>\n",
       "      <td>functional</td>\n",
       "      <td>0</td>\n",
       "      <td>...</td>\n",
       "      <td>1</td>\n",
       "      <td>0</td>\n",
       "      <td>0</td>\n",
       "      <td>0</td>\n",
       "      <td>0</td>\n",
       "      <td>0</td>\n",
       "      <td>0</td>\n",
       "      <td>1</td>\n",
       "      <td>0</td>\n",
       "      <td>0</td>\n",
       "    </tr>\n",
       "    <tr>\n",
       "      <th>59398</th>\n",
       "      <td>0.0</td>\n",
       "      <td>0</td>\n",
       "      <td>35.861315</td>\n",
       "      <td>-6.378573</td>\n",
       "      <td>1</td>\n",
       "      <td>4</td>\n",
       "      <td>0</td>\n",
       "      <td>0</td>\n",
       "      <td>functional</td>\n",
       "      <td>0</td>\n",
       "      <td>...</td>\n",
       "      <td>1</td>\n",
       "      <td>0</td>\n",
       "      <td>0</td>\n",
       "      <td>0</td>\n",
       "      <td>0</td>\n",
       "      <td>0</td>\n",
       "      <td>0</td>\n",
       "      <td>1</td>\n",
       "      <td>0</td>\n",
       "      <td>0</td>\n",
       "    </tr>\n",
       "    <tr>\n",
       "      <th>59399</th>\n",
       "      <td>0.0</td>\n",
       "      <td>191</td>\n",
       "      <td>38.104048</td>\n",
       "      <td>-6.747464</td>\n",
       "      <td>5</td>\n",
       "      <td>2</td>\n",
       "      <td>150</td>\n",
       "      <td>2002</td>\n",
       "      <td>functional</td>\n",
       "      <td>0</td>\n",
       "      <td>...</td>\n",
       "      <td>1</td>\n",
       "      <td>0</td>\n",
       "      <td>0</td>\n",
       "      <td>0</td>\n",
       "      <td>0</td>\n",
       "      <td>0</td>\n",
       "      <td>0</td>\n",
       "      <td>1</td>\n",
       "      <td>0</td>\n",
       "      <td>0</td>\n",
       "    </tr>\n",
       "  </tbody>\n",
       "</table>\n",
       "<p>59400 rows × 41913 columns</p>\n",
       "</div>"
      ],
      "text/plain": [
       "       amount_tsh  gps_height  longitude   latitude  region_code  \\\n",
       "0          6000.0        1390  34.938093  -9.856322           11   \n",
       "1             0.0        1399  34.698766  -2.147466           20   \n",
       "2            25.0         686  37.460664  -3.821329           21   \n",
       "3             0.0         263  38.486161 -11.155298           90   \n",
       "4             0.0           0  31.130847  -1.825359           18   \n",
       "...           ...         ...        ...        ...          ...   \n",
       "59395        10.0        1210  37.169807  -3.253847            3   \n",
       "59396      4700.0        1212  35.249991  -9.070629           11   \n",
       "59397         0.0           0  34.017087  -8.750434           12   \n",
       "59398         0.0           0  35.861315  -6.378573            1   \n",
       "59399         0.0         191  38.104048  -6.747464            5   \n",
       "\n",
       "       district_code  population  construction_year    status_group  \\\n",
       "0                  5         109               1999      functional   \n",
       "1                  2         280               2010      functional   \n",
       "2                  4         250               2009      functional   \n",
       "3                 63          58               1986  non functional   \n",
       "4                  1           0                  0      functional   \n",
       "...              ...         ...                ...             ...   \n",
       "59395              5         125               1999      functional   \n",
       "59396              4          56               1996      functional   \n",
       "59397              7           0                  0      functional   \n",
       "59398              4           0                  0      functional   \n",
       "59399              2         150               2002      functional   \n",
       "\n",
       "       date_recorded_2002-10-14  ...  source_class_groundwater  \\\n",
       "0                             0  ...                         1   \n",
       "1                             0  ...                         0   \n",
       "2                             0  ...                         0   \n",
       "3                             0  ...                         1   \n",
       "4                             0  ...                         0   \n",
       "...                         ...  ...                       ...   \n",
       "59395                         0  ...                         1   \n",
       "59396                         0  ...                         0   \n",
       "59397                         0  ...                         1   \n",
       "59398                         0  ...                         1   \n",
       "59399                         0  ...                         1   \n",
       "\n",
       "       source_class_surface  source_class_unknown  \\\n",
       "0                         0                     0   \n",
       "1                         1                     0   \n",
       "2                         1                     0   \n",
       "3                         0                     0   \n",
       "4                         1                     0   \n",
       "...                     ...                   ...   \n",
       "59395                     0                     0   \n",
       "59396                     1                     0   \n",
       "59397                     0                     0   \n",
       "59398                     0                     0   \n",
       "59399                     0                     0   \n",
       "\n",
       "       waterpoint_type_cattle trough  waterpoint_type_communal standpipe  \\\n",
       "0                                  0                                   1   \n",
       "1                                  0                                   1   \n",
       "2                                  0                                   0   \n",
       "3                                  0                                   0   \n",
       "4                                  0                                   1   \n",
       "...                              ...                                 ...   \n",
       "59395                              0                                   1   \n",
       "59396                              0                                   1   \n",
       "59397                              0                                   0   \n",
       "59398                              0                                   0   \n",
       "59399                              0                                   0   \n",
       "\n",
       "       waterpoint_type_communal standpipe multiple  waterpoint_type_dam  \\\n",
       "0                                                0                    0   \n",
       "1                                                0                    0   \n",
       "2                                                1                    0   \n",
       "3                                                1                    0   \n",
       "4                                                0                    0   \n",
       "...                                            ...                  ...   \n",
       "59395                                            0                    0   \n",
       "59396                                            0                    0   \n",
       "59397                                            0                    0   \n",
       "59398                                            0                    0   \n",
       "59399                                            0                    0   \n",
       "\n",
       "       waterpoint_type_hand pump  waterpoint_type_improved spring  \\\n",
       "0                              0                                0   \n",
       "1                              0                                0   \n",
       "2                              0                                0   \n",
       "3                              0                                0   \n",
       "4                              0                                0   \n",
       "...                          ...                              ...   \n",
       "59395                          0                                0   \n",
       "59396                          0                                0   \n",
       "59397                          1                                0   \n",
       "59398                          1                                0   \n",
       "59399                          1                                0   \n",
       "\n",
       "       waterpoint_type_other  \n",
       "0                          0  \n",
       "1                          0  \n",
       "2                          0  \n",
       "3                          0  \n",
       "4                          0  \n",
       "...                      ...  \n",
       "59395                      0  \n",
       "59396                      0  \n",
       "59397                      0  \n",
       "59398                      0  \n",
       "59399                      0  \n",
       "\n",
       "[59400 rows x 41913 columns]"
      ]
     },
     "execution_count": 11,
     "metadata": {},
     "output_type": "execute_result"
    }
   ],
   "source": [
    "encoded_cat = pd.get_dummies(df, columns = cat_features)\n",
    "encoded_cat"
   ]
  },
  {
   "cell_type": "code",
   "execution_count": 12,
   "metadata": {},
   "outputs": [
    {
     "name": "stdout",
     "output_type": "stream",
     "text": [
      "(44550, 41913) (44550,)\n",
      "(14850, 41913) (14850,)\n"
     ]
    }
   ],
   "source": [
    "X_train, X_test, y_train, y_test = train_test_split(encoded_cat, target, random_state = 42)\n",
    "print(X_train.shape, y_train.shape)\n",
    "print(X_test.shape, y_test.shape)"
   ]
  },
  {
   "cell_type": "markdown",
   "metadata": {},
   "source": [
    "### Decision Tree"
   ]
  },
  {
   "cell_type": "code",
   "execution_count": null,
   "metadata": {},
   "outputs": [],
   "source": [
    "#instantiate vanilla decision tree\n",
    "tree_clf = DecisionTreeClassifier()\n",
    "\n",
    "#fit decision tree\n",
    "tree_clf.fit(X_train, y_train)"
   ]
  },
  {
   "cell_type": "code",
   "execution_count": null,
   "metadata": {},
   "outputs": [],
   "source": [
    "#test set predictions\n",
    "predict = tree_clf.predict(X_test)\n",
    "\n",
    "#print conf matrix & class report\n",
    "print(confusion_matrix(y_test, predict))\n",
    "print(classification_report(y_test, predict))"
   ]
  },
  {
   "cell_type": "code",
   "execution_count": null,
   "metadata": {},
   "outputs": [],
   "source": [
    "model_info(tree_clf, X_test, y_test)"
   ]
  },
  {
   "cell_type": "code",
   "execution_count": null,
   "metadata": {},
   "outputs": [],
   "source": [
    "mean_cv_score_tree_clf = cross_val_score(tree_clf_cv, X_train, y_train, cv=3).mean()\n",
    "\n",
    "print(f\"Mean Cross Validation Score for Decision Tree: {mean_cv_score_tree_clf :.2%}\")\n"
   ]
  },
  {
   "cell_type": "markdown",
   "metadata": {},
   "source": [
    "#### GridSearchCV Decision Tree"
   ]
  },
  {
   "cell_type": "code",
   "execution_count": null,
   "metadata": {},
   "outputs": [],
   "source": [
    "#adjusted tree_clf many times for best results\n",
    "tree_clf_gs = DecisionTreeClassifier()\n",
    "param_grid = {\n",
    "    'criterion': ['gini', 'entropy'],\n",
    "    'max_depth': [90, 100],\n",
    "    'min_samples_split': [2, 3],\n",
    "    'class_weight': ['balanced']\n",
    "}\n",
    "\n",
    "gs_tree = GridSearchCV(tree_clf_gs, param_grid, cv = 3)\n",
    "gs_tree.fit(X_train, y_train)\n",
    "print(f\"Training Accuracy: {gs_tree.best_score_ :.2%}\")\n",
    "print(\"\")\n",
    "print(f\"Optimal Parameters: {gs_tree.best_params_}\")"
   ]
  },
  {
   "cell_type": "code",
   "execution_count": null,
   "metadata": {},
   "outputs": [],
   "source": [
    "#Instantiate Decision Tree Classifier\n",
    "tree_clf_cv = DecisionTreeClassifier(criterion= 'entropy', max_depth= 100, \n",
    "                                     min_samples_split= 2, class_weight = 'balanced' )"
   ]
  },
  {
   "cell_type": "code",
   "execution_count": null,
   "metadata": {},
   "outputs": [],
   "source": [
    "model_info(tree_clf_cv, X_test, y_test)"
   ]
  },
  {
   "cell_type": "code",
   "execution_count": null,
   "metadata": {},
   "outputs": [],
   "source": [
    "mean_cv_score_tree_clf_cv = cross_val_score(tree_clf_cv, X_train, y_train, cv=3).mean()\n",
    "\n",
    "print(f\"Mean Cross Validation Score for GridSearchCV Decision Tree: {mean_cv_score_tree_clf_cv :.2%}\")\n"
   ]
  },
  {
   "cell_type": "markdown",
   "metadata": {},
   "source": [
    "### Bagged Tree"
   ]
  },
  {
   "cell_type": "code",
   "execution_count": null,
   "metadata": {},
   "outputs": [],
   "source": [
    "#instantiate bagged tree classifier\n",
    "bg_tree = BaggingClassifier(DecisionTreeClassifier(criterion= 'entropy', max_depth= 100, \n",
    "                                     min_samples_split= 2, class_weight = 'balanced' ))"
   ]
  },
  {
   "cell_type": "code",
   "execution_count": null,
   "metadata": {},
   "outputs": [],
   "source": [
    "#run model w/o feat importance\n",
    "model_info(bg_tree, X_test, y_test)"
   ]
  },
  {
   "cell_type": "code",
   "execution_count": null,
   "metadata": {},
   "outputs": [],
   "source": [
    "mean_cv_score_bg_tree = cross_val_score(bg_tree, X_train, y_train, cv=3).mean()\n",
    "\n",
    "print(f\"Mean Cross Validation Score for Bagged Tree: {mean_cv_score_bg_tree :.2%}\")\n"
   ]
  },
  {
   "cell_type": "markdown",
   "metadata": {},
   "source": [
    "### Naive Bayes"
   ]
  },
  {
   "cell_type": "code",
   "execution_count": null,
   "metadata": {},
   "outputs": [],
   "source": [
    "nb = GaussianNB()"
   ]
  },
  {
   "cell_type": "code",
   "execution_count": null,
   "metadata": {},
   "outputs": [],
   "source": [
    "model_info(nb, X_test, y_test)"
   ]
  },
  {
   "cell_type": "code",
   "execution_count": null,
   "metadata": {},
   "outputs": [],
   "source": [
    "mean_cv_score_nb = cross_val_score(nb, X_train, y_train, cv=3).mean()\n",
    "\n",
    "print(f\"Mean Cross Validation Score for Bagged Tree: {mean_cv_score_nb :.2%}\")\n"
   ]
  },
  {
   "cell_type": "markdown",
   "metadata": {},
   "source": [
    "### Random Forest"
   ]
  },
  {
   "cell_type": "code",
   "execution_count": null,
   "metadata": {},
   "outputs": [],
   "source": [
    "#instantiate and fit rf\n",
    "rf = RandomForestClassifier()"
   ]
  },
  {
   "cell_type": "code",
   "execution_count": null,
   "metadata": {},
   "outputs": [],
   "source": [
    "model_info(rf, X_test, y_test)"
   ]
  },
  {
   "cell_type": "code",
   "execution_count": null,
   "metadata": {},
   "outputs": [],
   "source": [
    "mean_cv_score_rf = cross_val_score(rf, X_train, y_train, cv=3).mean()\n",
    "\n",
    "print(f\"Mean Cross Validation Score for Bagged Tree: {mean_cv_score_rf :.2%}\")\n"
   ]
  },
  {
   "cell_type": "markdown",
   "metadata": {},
   "source": [
    "#### GridSearchCV Random Forest"
   ]
  },
  {
   "cell_type": "code",
   "execution_count": null,
   "metadata": {},
   "outputs": [],
   "source": [
    "#set params to search\n",
    "param_grid = {\n",
    "    'criterion': ['gini', 'entropy'],\n",
    "    'max_depth': [65, 70],\n",
    "    'min_samples_split': [2, 3, 4],\n",
    "    'class_weight': ['balanced']\n",
    "}\n",
    "\n",
    "gs_rf = GridSearchCV(rf, param_grid, cv = 3)\n",
    "gs_rf.fit(X_train, y_train)\n",
    "print(f\"Training Accuracy: {gs_rf.best_score_ :.2%}\")\n",
    "print(\"\")\n",
    "print(f\"Optimal Parameters: {gs_rf.best_params_}\")"
   ]
  },
  {
   "cell_type": "code",
   "execution_count": null,
   "metadata": {},
   "outputs": [],
   "source": [
    "#instantiate rf classifier\n",
    "rf1 = RandomForestClassifier(criterion = 'gini', max_depth= 65, \n",
    "                            min_samples_split= 3, class_weight= 'balanced')"
   ]
  },
  {
   "cell_type": "code",
   "execution_count": null,
   "metadata": {},
   "outputs": [],
   "source": [
    "model_info(rf1, X_test, y_test)"
   ]
  },
  {
   "cell_type": "code",
   "execution_count": null,
   "metadata": {},
   "outputs": [],
   "source": [
    "mean_cv_score_rf1 = cross_val_score(rf1, X_train, y_train, cv=3).mean()\n",
    "\n",
    "print(f\"Mean Cross Validation Score for Bagged Tree: {mean_cv_score_rf1 :.2%}\")\n"
   ]
  },
  {
   "cell_type": "code",
   "execution_count": null,
   "metadata": {},
   "outputs": [],
   "source": [
    "### AdaBoost"
   ]
  },
  {
   "cell_type": "code",
   "execution_count": null,
   "metadata": {},
   "outputs": [],
   "source": [
    "ab = AdaBoostClassifier()"
   ]
  },
  {
   "cell_type": "code",
   "execution_count": null,
   "metadata": {},
   "outputs": [],
   "source": [
    "model_info(ab, X_test, y_test)"
   ]
  },
  {
   "cell_type": "markdown",
   "metadata": {},
   "source": [
    "#### GridSearchCV Adaboost"
   ]
  },
  {
   "cell_type": "code",
   "execution_count": null,
   "metadata": {},
   "outputs": [],
   "source": [
    "#set params to search\n",
    "param_grid = {\n",
    "    'n_estimators': [50, 60, 70],\n",
    "    'learning_rate': [.1, 1],\n",
    "}\n",
    "\n",
    "gs_adab = GridSearchCV(adab, param_grid, cv = 3)\n",
    "gs_adab.fit(X_train, y_train)\n",
    "print(f\"Training Accuracy: {gs_adab.best_score_ :.2%}\")\n",
    "print(\"\")\n",
    "print(f\"Optimal Parameters: {gs_adab.best_params_}\")"
   ]
  },
  {
   "cell_type": "code",
   "execution_count": null,
   "metadata": {},
   "outputs": [],
   "source": [
    "#instantiate ab1 classifier\n",
    "ab1 = AdaBoostClassifier(learning_rate =1, n_estimators = 70)"
   ]
  },
  {
   "cell_type": "code",
   "execution_count": null,
   "metadata": {},
   "outputs": [],
   "source": [
    "model_info(ab1, X_test, y_test)"
   ]
  }
 ],
 "metadata": {
  "kernelspec": {
   "display_name": "Python (learn-env)",
   "language": "python",
   "name": "learn-env"
  },
  "language_info": {
   "codemirror_mode": {
    "name": "ipython",
    "version": 3
   },
   "file_extension": ".py",
   "mimetype": "text/x-python",
   "name": "python",
   "nbconvert_exporter": "python",
   "pygments_lexer": "ipython3",
   "version": "3.8.5"
  }
 },
 "nbformat": 4,
 "nbformat_minor": 4
}
