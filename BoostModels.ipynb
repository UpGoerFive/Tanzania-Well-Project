{
 "cells": [
  {
   "cell_type": "code",
   "execution_count": 1,
   "metadata": {},
   "outputs": [],
   "source": [
    "import pandas as pd\n",
    "import numpy as np\n",
    "import scipy.stats as stats\n",
    "import ModelClass\n",
    "\n",
    "from matplotlib import pyplot as plt\n",
    "import seaborn as sns\n",
    "#from sklearnex import patch_sklearn\n",
    "#patch_sklearn(verbose=False)\n",
    "from sklearn.preprocessing import OneHotEncoder, OrdinalEncoder, StandardScaler, LabelEncoder, FunctionTransformer\n",
    "from sklearn.impute import SimpleImputer\n",
    "from sklearn.pipeline import Pipeline\n",
    "from sklearn.model_selection import train_test_split, cross_val_score, RandomizedSearchCV, GridSearchCV\n",
    "from sklearn.compose import ColumnTransformer, make_column_selector\n",
    "from sklearn.metrics import plot_confusion_matrix, recall_score, accuracy_score, precision_score, f1_score\n",
    "from imblearn.over_sampling import SMOTE\n",
    "from imblearn.pipeline import Pipeline as ImPipeline\n",
    "from sklearn.linear_model import LogisticRegression\n",
    "\n",
    "from sklearn.ensemble import AdaBoostClassifier, GradientBoostingClassifier\n",
    "from xgboost import XGBRegressor\n"
   ]
  },
  {
   "cell_type": "code",
   "execution_count": 2,
   "metadata": {},
   "outputs": [],
   "source": [
    "# Included in separate cell in case cat boost is not installed.\n",
    "from catboost import CatBoostClassifier"
   ]
  },
  {
   "cell_type": "code",
   "execution_count": 3,
   "metadata": {},
   "outputs": [],
   "source": [
    "X = pd.read_csv('data/Training-set-values.csv')\n",
    "y = pd.read_csv('data/Training-set-labels.csv')\n",
    "\n",
    "X['date_recorded'] = pd.to_datetime(X['date_recorded']).astype(np.int64)"
   ]
  },
  {
   "cell_type": "markdown",
   "metadata": {},
   "source": [
    "#### Preprocessors"
   ]
  },
  {
   "cell_type": "code",
   "execution_count": 4,
   "metadata": {},
   "outputs": [],
   "source": [
    "# Super basic numeric transformer\n",
    "\n",
    "numeric_transformer = Pipeline(\n",
    "    steps=[('imputer', SimpleImputer(strategy='median'))]\n",
    ")\n",
    "\n",
    "numeric_preprocessor = ColumnTransformer(\n",
    "    transformers=[\n",
    "        (\"numeric\", numeric_transformer, make_column_selector(dtype_include=np.number)),\n",
    "    ]\n",
    ")"
   ]
  },
  {
   "cell_type": "markdown",
   "metadata": {},
   "source": [
    "### Models"
   ]
  },
  {
   "cell_type": "code",
   "execution_count": 5,
   "metadata": {},
   "outputs": [],
   "source": [
    "# Gradient Boost\n",
    "GradBoost = {'classifier': GradientBoostingClassifier(),'preprocessor': numeric_preprocessor}\n",
    "GradBoost2 = {'classifier': GradientBoostingClassifier(),'preprocessor': None}\n",
    "GradBoost3 = {'classifier': GradientBoostingClassifier(),'preprocessor': None}\n",
    "# XGradient Boosting\n",
    "XGBoost = {'classifier': XGBRegressor(objective='reg:squarederror'), 'preprocessor': numeric_preprocessor}\n",
    "# CatBoost\n",
    "CatBoost = {'classifier': CatBoostClassifier(max_depth=3),'preprocessor': numeric_preprocessor}\n",
    "\n",
    "\n",
    "\n",
    "models = {'GradientBoost': GradBoost,\n",
    "    'GradientBoost2': GradBoost2,\n",
    "    'GradientBoost3': GradBoost3,\n",
    "    'XGBoost': XGBoost,\n",
    "    'CatBoost': CatBoost\n",
    "    }\n"
   ]
  },
  {
   "cell_type": "markdown",
   "metadata": {},
   "source": [
    "### Modeler"
   ]
  },
  {
   "cell_type": "code",
   "execution_count": 6,
   "metadata": {},
   "outputs": [],
   "source": [
    "model_run = ModelClass.Modeler(models, X=X, y=y)\n",
    "\n",
    "# after the model_run object is created so we can add onto the default preprocessor.\n",
    "log_reg_regularized = {'classifier': LogisticRegression(n_jobs=3), 'preprocessor': model_run.create_default_prep(num_add=[('scaling', StandardScaler())])}\n",
    "model_run.add_model('log_reg_regularized', log_reg_regularized)"
   ]
  },
  {
   "cell_type": "markdown",
   "metadata": {},
   "source": [
    "### Search parameters and kwargs"
   ]
  },
  {
   "cell_type": "code",
   "execution_count": 7,
   "metadata": {},
   "outputs": [],
   "source": [
    "GradBoost_params = dict(n_estimators=np.array(range(100, 400)),\n",
    "                    criterion=['friedman_mse', 'squared_error'],\n",
    "                    max_depth=np.array(range(2, 10)),\n",
    "                    min_samples_split=np.array(range(2, 10)),\n",
    "                    min_samples_leaf=np.array(range(1, 10)),\n",
    "                    learning_rate=stats.uniform(loc=0.01, scale=1))\n",
    "\n",
    "GradBoost3_params = dict(n_estimators=np.array(range(200, 1000)),\n",
    "                    criterion=['friedman_mse', 'squared_error'],\n",
    "                    max_depth=np.array(range(2, 10)),\n",
    "                    min_samples_split=np.array(range(2, 10)),\n",
    "                    min_samples_leaf=np.array(range(1, 10)),\n",
    "                    learning_rate=stats.uniform(loc=0.001, scale=1))\n",
    "\n",
    "XGBoost_params = dict(learning_rate =stats.uniform(loc=0.1, scale=0.1),\n",
    "                    n_estimators=np.array(range(100,1200)),\n",
    "                    max_depth=np.array(range(4,30)))\n",
    "\n",
    "CatBoost_params = dict(max_depth =[3,4,5],\n",
    "                         n_estimators = [100,200,300])\n",
    "\n",
    "search_options = {'n_jobs': 3, 'random_state': 9280210, 'n_iter': 20}"
   ]
  },
  {
   "cell_type": "markdown",
   "metadata": {},
   "source": [
    "## RandomizedSearchCV"
   ]
  },
  {
   "cell_type": "code",
   "execution_count": 8,
   "metadata": {},
   "outputs": [],
   "source": [
    "model_run.hyper_search('GradientBoost', params=GradBoost_params, searcher_kwargs=search_options, set_to_train=True)"
   ]
  },
  {
   "cell_type": "code",
   "execution_count": 9,
   "metadata": {},
   "outputs": [
    {
     "name": "stderr",
     "output_type": "stream",
     "text": [
      "/Users/valeriaviscarra/opt/anaconda3/envs/learn-env/lib/python3.8/site-packages/joblib/externals/loky/process_executor.py:688: UserWarning: A worker stopped while some jobs were given to the executor. This can be caused by a too short worker timeout or by a memory leak.\n",
      "  warnings.warn(\n"
     ]
    }
   ],
   "source": [
    "model_run.hyper_search('GradientBoost2', params=GradBoost_params, searcher_kwargs=search_options, set_to_train=True)"
   ]
  },
  {
   "cell_type": "code",
   "execution_count": 10,
   "metadata": {},
   "outputs": [],
   "source": [
    "model_run.hyper_search('GradientBoost3', params=GradBoost3_params, searcher_kwargs=search_options, set_to_train=True)"
   ]
  },
  {
   "cell_type": "code",
   "execution_count": 11,
   "metadata": {},
   "outputs": [
    {
     "name": "stderr",
     "output_type": "stream",
     "text": [
      "/Users/valeriaviscarra/opt/anaconda3/envs/learn-env/lib/python3.8/site-packages/joblib/externals/loky/process_executor.py:688: UserWarning: A worker stopped while some jobs were given to the executor. This can be caused by a too short worker timeout or by a memory leak.\n",
      "  warnings.warn(\n"
     ]
    }
   ],
   "source": [
    "model_run.hyper_search('XGBoost', params=XGBoost_params, searcher_kwargs=search_options, set_to_train=True)"
   ]
  },
  {
   "cell_type": "code",
   "execution_count": 12,
   "metadata": {},
   "outputs": [
    {
     "name": "stderr",
     "output_type": "stream",
     "text": [
      "/Users/valeriaviscarra/opt/anaconda3/envs/learn-env/lib/python3.8/site-packages/sklearn/model_selection/_search.py:278: UserWarning: The total space of parameters 9 is smaller than n_iter=20. Running 9 iterations. For exhaustive searches, use GridSearchCV.\n",
      "  warnings.warn(\n"
     ]
    },
    {
     "name": "stdout",
     "output_type": "stream",
     "text": [
      "Learning rate set to 0.265612\n",
      "0:\tlearn: 0.9862021\ttotal: 78.3ms\tremaining: 23.4s\n",
      "1:\tlearn: 0.9216414\ttotal: 84.4ms\tremaining: 12.6s\n",
      "2:\tlearn: 0.8824521\ttotal: 90.1ms\tremaining: 8.92s\n",
      "3:\tlearn: 0.8555248\ttotal: 95.7ms\tremaining: 7.08s\n",
      "4:\tlearn: 0.8364673\ttotal: 101ms\tremaining: 5.96s\n",
      "5:\tlearn: 0.8218166\ttotal: 106ms\tremaining: 5.17s\n",
      "6:\tlearn: 0.8129340\ttotal: 112ms\tremaining: 4.69s\n",
      "7:\tlearn: 0.8058792\ttotal: 118ms\tremaining: 4.31s\n",
      "8:\tlearn: 0.7989142\ttotal: 123ms\tremaining: 3.99s\n",
      "9:\tlearn: 0.7937780\ttotal: 129ms\tremaining: 3.73s\n",
      "10:\tlearn: 0.7907538\ttotal: 134ms\tremaining: 3.52s\n",
      "11:\tlearn: 0.7854812\ttotal: 139ms\tremaining: 3.35s\n",
      "12:\tlearn: 0.7833159\ttotal: 145ms\tremaining: 3.2s\n",
      "13:\tlearn: 0.7807781\ttotal: 150ms\tremaining: 3.06s\n",
      "14:\tlearn: 0.7768205\ttotal: 155ms\tremaining: 2.95s\n",
      "15:\tlearn: 0.7742835\ttotal: 162ms\tremaining: 2.87s\n",
      "16:\tlearn: 0.7717098\ttotal: 168ms\tremaining: 2.8s\n",
      "17:\tlearn: 0.7701826\ttotal: 173ms\tremaining: 2.71s\n",
      "18:\tlearn: 0.7680539\ttotal: 180ms\tremaining: 2.65s\n",
      "19:\tlearn: 0.7654467\ttotal: 185ms\tremaining: 2.59s\n",
      "20:\tlearn: 0.7643011\ttotal: 191ms\tremaining: 2.54s\n",
      "21:\tlearn: 0.7621080\ttotal: 196ms\tremaining: 2.48s\n",
      "22:\tlearn: 0.7607630\ttotal: 202ms\tremaining: 2.43s\n",
      "23:\tlearn: 0.7599562\ttotal: 208ms\tremaining: 2.39s\n",
      "24:\tlearn: 0.7587362\ttotal: 214ms\tremaining: 2.35s\n",
      "25:\tlearn: 0.7570620\ttotal: 219ms\tremaining: 2.31s\n",
      "26:\tlearn: 0.7555946\ttotal: 225ms\tremaining: 2.28s\n",
      "27:\tlearn: 0.7547239\ttotal: 230ms\tremaining: 2.24s\n",
      "28:\tlearn: 0.7524917\ttotal: 236ms\tremaining: 2.2s\n",
      "29:\tlearn: 0.7519444\ttotal: 241ms\tremaining: 2.17s\n",
      "30:\tlearn: 0.7502119\ttotal: 247ms\tremaining: 2.14s\n",
      "31:\tlearn: 0.7493089\ttotal: 252ms\tremaining: 2.11s\n",
      "32:\tlearn: 0.7483707\ttotal: 258ms\tremaining: 2.09s\n",
      "33:\tlearn: 0.7474882\ttotal: 264ms\tremaining: 2.07s\n",
      "34:\tlearn: 0.7469998\ttotal: 270ms\tremaining: 2.04s\n",
      "35:\tlearn: 0.7462165\ttotal: 276ms\tremaining: 2.02s\n",
      "36:\tlearn: 0.7454923\ttotal: 282ms\tremaining: 2s\n",
      "37:\tlearn: 0.7449400\ttotal: 287ms\tremaining: 1.98s\n",
      "38:\tlearn: 0.7441302\ttotal: 293ms\tremaining: 1.96s\n",
      "39:\tlearn: 0.7433239\ttotal: 299ms\tremaining: 1.94s\n",
      "40:\tlearn: 0.7427218\ttotal: 304ms\tremaining: 1.92s\n",
      "41:\tlearn: 0.7421874\ttotal: 309ms\tremaining: 1.9s\n",
      "42:\tlearn: 0.7416821\ttotal: 315ms\tremaining: 1.88s\n",
      "43:\tlearn: 0.7410810\ttotal: 320ms\tremaining: 1.86s\n",
      "44:\tlearn: 0.7402066\ttotal: 326ms\tremaining: 1.85s\n",
      "45:\tlearn: 0.7397162\ttotal: 331ms\tremaining: 1.83s\n",
      "46:\tlearn: 0.7389758\ttotal: 336ms\tremaining: 1.81s\n",
      "47:\tlearn: 0.7376477\ttotal: 342ms\tremaining: 1.79s\n",
      "48:\tlearn: 0.7358570\ttotal: 348ms\tremaining: 1.78s\n",
      "49:\tlearn: 0.7345929\ttotal: 354ms\tremaining: 1.77s\n",
      "50:\tlearn: 0.7341370\ttotal: 360ms\tremaining: 1.75s\n",
      "51:\tlearn: 0.7335331\ttotal: 365ms\tremaining: 1.74s\n",
      "52:\tlearn: 0.7328099\ttotal: 370ms\tremaining: 1.73s\n",
      "53:\tlearn: 0.7319877\ttotal: 376ms\tremaining: 1.71s\n",
      "54:\tlearn: 0.7313519\ttotal: 382ms\tremaining: 1.7s\n",
      "55:\tlearn: 0.7308233\ttotal: 387ms\tremaining: 1.69s\n",
      "56:\tlearn: 0.7299381\ttotal: 392ms\tremaining: 1.67s\n",
      "57:\tlearn: 0.7292388\ttotal: 397ms\tremaining: 1.66s\n",
      "58:\tlearn: 0.7285104\ttotal: 403ms\tremaining: 1.65s\n",
      "59:\tlearn: 0.7278373\ttotal: 409ms\tremaining: 1.64s\n",
      "60:\tlearn: 0.7272494\ttotal: 415ms\tremaining: 1.63s\n",
      "61:\tlearn: 0.7268308\ttotal: 421ms\tremaining: 1.62s\n",
      "62:\tlearn: 0.7259207\ttotal: 427ms\tremaining: 1.6s\n",
      "63:\tlearn: 0.7250652\ttotal: 432ms\tremaining: 1.59s\n",
      "64:\tlearn: 0.7245775\ttotal: 438ms\tremaining: 1.58s\n",
      "65:\tlearn: 0.7242131\ttotal: 444ms\tremaining: 1.57s\n",
      "66:\tlearn: 0.7237149\ttotal: 449ms\tremaining: 1.56s\n",
      "67:\tlearn: 0.7228607\ttotal: 455ms\tremaining: 1.55s\n",
      "68:\tlearn: 0.7216970\ttotal: 460ms\tremaining: 1.54s\n",
      "69:\tlearn: 0.7208336\ttotal: 465ms\tremaining: 1.53s\n",
      "70:\tlearn: 0.7200949\ttotal: 471ms\tremaining: 1.52s\n",
      "71:\tlearn: 0.7199579\ttotal: 477ms\tremaining: 1.51s\n",
      "72:\tlearn: 0.7196629\ttotal: 482ms\tremaining: 1.5s\n",
      "73:\tlearn: 0.7189871\ttotal: 487ms\tremaining: 1.49s\n",
      "74:\tlearn: 0.7185068\ttotal: 493ms\tremaining: 1.48s\n",
      "75:\tlearn: 0.7175748\ttotal: 499ms\tremaining: 1.47s\n",
      "76:\tlearn: 0.7167162\ttotal: 505ms\tremaining: 1.46s\n",
      "77:\tlearn: 0.7161447\ttotal: 511ms\tremaining: 1.45s\n",
      "78:\tlearn: 0.7157405\ttotal: 516ms\tremaining: 1.44s\n",
      "79:\tlearn: 0.7155016\ttotal: 521ms\tremaining: 1.43s\n",
      "80:\tlearn: 0.7152352\ttotal: 526ms\tremaining: 1.42s\n",
      "81:\tlearn: 0.7144699\ttotal: 532ms\tremaining: 1.41s\n",
      "82:\tlearn: 0.7139931\ttotal: 537ms\tremaining: 1.4s\n",
      "83:\tlearn: 0.7136669\ttotal: 543ms\tremaining: 1.4s\n",
      "84:\tlearn: 0.7132828\ttotal: 548ms\tremaining: 1.39s\n",
      "85:\tlearn: 0.7130521\ttotal: 553ms\tremaining: 1.38s\n",
      "86:\tlearn: 0.7128256\ttotal: 558ms\tremaining: 1.37s\n",
      "87:\tlearn: 0.7122340\ttotal: 564ms\tremaining: 1.36s\n",
      "88:\tlearn: 0.7117152\ttotal: 569ms\tremaining: 1.35s\n",
      "89:\tlearn: 0.7111235\ttotal: 574ms\tremaining: 1.34s\n",
      "90:\tlearn: 0.7105650\ttotal: 581ms\tremaining: 1.33s\n",
      "91:\tlearn: 0.7101654\ttotal: 586ms\tremaining: 1.32s\n",
      "92:\tlearn: 0.7097073\ttotal: 591ms\tremaining: 1.32s\n",
      "93:\tlearn: 0.7093692\ttotal: 599ms\tremaining: 1.31s\n",
      "94:\tlearn: 0.7087599\ttotal: 605ms\tremaining: 1.3s\n",
      "95:\tlearn: 0.7083993\ttotal: 610ms\tremaining: 1.3s\n",
      "96:\tlearn: 0.7079316\ttotal: 615ms\tremaining: 1.29s\n",
      "97:\tlearn: 0.7075359\ttotal: 621ms\tremaining: 1.28s\n",
      "98:\tlearn: 0.7069493\ttotal: 626ms\tremaining: 1.27s\n",
      "99:\tlearn: 0.7066890\ttotal: 632ms\tremaining: 1.26s\n",
      "100:\tlearn: 0.7062836\ttotal: 637ms\tremaining: 1.25s\n",
      "101:\tlearn: 0.7057782\ttotal: 642ms\tremaining: 1.25s\n",
      "102:\tlearn: 0.7052138\ttotal: 648ms\tremaining: 1.24s\n",
      "103:\tlearn: 0.7048717\ttotal: 654ms\tremaining: 1.23s\n",
      "104:\tlearn: 0.7043149\ttotal: 659ms\tremaining: 1.22s\n",
      "105:\tlearn: 0.7037837\ttotal: 665ms\tremaining: 1.22s\n",
      "106:\tlearn: 0.7035477\ttotal: 672ms\tremaining: 1.21s\n",
      "107:\tlearn: 0.7031474\ttotal: 678ms\tremaining: 1.2s\n",
      "108:\tlearn: 0.7028812\ttotal: 683ms\tremaining: 1.2s\n",
      "109:\tlearn: 0.7024816\ttotal: 688ms\tremaining: 1.19s\n",
      "110:\tlearn: 0.7023014\ttotal: 693ms\tremaining: 1.18s\n",
      "111:\tlearn: 0.7020343\ttotal: 698ms\tremaining: 1.17s\n",
      "112:\tlearn: 0.7014935\ttotal: 704ms\tremaining: 1.16s\n",
      "113:\tlearn: 0.7008822\ttotal: 710ms\tremaining: 1.16s\n",
      "114:\tlearn: 0.7001683\ttotal: 716ms\tremaining: 1.15s\n",
      "115:\tlearn: 0.6997198\ttotal: 722ms\tremaining: 1.15s\n",
      "116:\tlearn: 0.6994358\ttotal: 727ms\tremaining: 1.14s\n",
      "117:\tlearn: 0.6989996\ttotal: 733ms\tremaining: 1.13s\n",
      "118:\tlearn: 0.6982237\ttotal: 739ms\tremaining: 1.12s\n",
      "119:\tlearn: 0.6979792\ttotal: 745ms\tremaining: 1.12s\n",
      "120:\tlearn: 0.6974945\ttotal: 751ms\tremaining: 1.11s\n",
      "121:\tlearn: 0.6973029\ttotal: 756ms\tremaining: 1.1s\n",
      "122:\tlearn: 0.6965589\ttotal: 762ms\tremaining: 1.1s\n",
      "123:\tlearn: 0.6958777\ttotal: 769ms\tremaining: 1.09s\n",
      "124:\tlearn: 0.6954549\ttotal: 774ms\tremaining: 1.08s\n",
      "125:\tlearn: 0.6948730\ttotal: 779ms\tremaining: 1.07s\n",
      "126:\tlearn: 0.6944926\ttotal: 785ms\tremaining: 1.07s\n",
      "127:\tlearn: 0.6942409\ttotal: 790ms\tremaining: 1.06s\n",
      "128:\tlearn: 0.6938831\ttotal: 796ms\tremaining: 1.05s\n",
      "129:\tlearn: 0.6933897\ttotal: 803ms\tremaining: 1.05s\n",
      "130:\tlearn: 0.6929890\ttotal: 809ms\tremaining: 1.04s\n",
      "131:\tlearn: 0.6927727\ttotal: 816ms\tremaining: 1.04s\n",
      "132:\tlearn: 0.6925038\ttotal: 822ms\tremaining: 1.03s\n",
      "133:\tlearn: 0.6922629\ttotal: 828ms\tremaining: 1.02s\n",
      "134:\tlearn: 0.6921055\ttotal: 834ms\tremaining: 1.02s\n",
      "135:\tlearn: 0.6915043\ttotal: 839ms\tremaining: 1.01s\n",
      "136:\tlearn: 0.6911007\ttotal: 845ms\tremaining: 1s\n",
      "137:\tlearn: 0.6909734\ttotal: 850ms\tremaining: 998ms\n",
      "138:\tlearn: 0.6907828\ttotal: 856ms\tremaining: 991ms\n",
      "139:\tlearn: 0.6903439\ttotal: 862ms\tremaining: 985ms\n",
      "140:\tlearn: 0.6899446\ttotal: 867ms\tremaining: 978ms\n",
      "141:\tlearn: 0.6897336\ttotal: 873ms\tremaining: 971ms\n",
      "142:\tlearn: 0.6890028\ttotal: 878ms\tremaining: 964ms\n",
      "143:\tlearn: 0.6888017\ttotal: 883ms\tremaining: 957ms\n",
      "144:\tlearn: 0.6885661\ttotal: 889ms\tremaining: 950ms\n",
      "145:\tlearn: 0.6883078\ttotal: 895ms\tremaining: 944ms\n",
      "146:\tlearn: 0.6880787\ttotal: 901ms\tremaining: 938ms\n",
      "147:\tlearn: 0.6879440\ttotal: 908ms\tremaining: 932ms\n",
      "148:\tlearn: 0.6877710\ttotal: 913ms\tremaining: 925ms\n",
      "149:\tlearn: 0.6874680\ttotal: 918ms\tremaining: 918ms\n",
      "150:\tlearn: 0.6868596\ttotal: 925ms\tremaining: 912ms\n",
      "151:\tlearn: 0.6866838\ttotal: 929ms\tremaining: 905ms\n",
      "152:\tlearn: 0.6865547\ttotal: 935ms\tremaining: 898ms\n",
      "153:\tlearn: 0.6863040\ttotal: 940ms\tremaining: 891ms\n",
      "154:\tlearn: 0.6860710\ttotal: 946ms\tremaining: 885ms\n",
      "155:\tlearn: 0.6858833\ttotal: 952ms\tremaining: 878ms\n",
      "156:\tlearn: 0.6856223\ttotal: 957ms\tremaining: 872ms\n",
      "157:\tlearn: 0.6855290\ttotal: 962ms\tremaining: 865ms\n",
      "158:\tlearn: 0.6852198\ttotal: 968ms\tremaining: 858ms\n",
      "159:\tlearn: 0.6850933\ttotal: 973ms\tremaining: 852ms\n",
      "160:\tlearn: 0.6847890\ttotal: 980ms\tremaining: 846ms\n",
      "161:\tlearn: 0.6844359\ttotal: 985ms\tremaining: 839ms\n",
      "162:\tlearn: 0.6842905\ttotal: 990ms\tremaining: 832ms\n",
      "163:\tlearn: 0.6837388\ttotal: 995ms\tremaining: 825ms\n",
      "164:\tlearn: 0.6835274\ttotal: 1s\tremaining: 819ms\n",
      "165:\tlearn: 0.6830261\ttotal: 1.01s\tremaining: 812ms\n",
      "166:\tlearn: 0.6829305\ttotal: 1.01s\tremaining: 807ms\n",
      "167:\tlearn: 0.6824248\ttotal: 1.02s\tremaining: 800ms\n",
      "168:\tlearn: 0.6822852\ttotal: 1.02s\tremaining: 794ms\n",
      "169:\tlearn: 0.6821000\ttotal: 1.03s\tremaining: 787ms\n",
      "170:\tlearn: 0.6819819\ttotal: 1.03s\tremaining: 780ms\n",
      "171:\tlearn: 0.6818358\ttotal: 1.04s\tremaining: 774ms\n",
      "172:\tlearn: 0.6815077\ttotal: 1.04s\tremaining: 767ms\n",
      "173:\tlearn: 0.6808999\ttotal: 1.05s\tremaining: 761ms\n",
      "174:\tlearn: 0.6803657\ttotal: 1.05s\tremaining: 754ms\n",
      "175:\tlearn: 0.6800620\ttotal: 1.06s\tremaining: 748ms\n",
      "176:\tlearn: 0.6797150\ttotal: 1.07s\tremaining: 742ms\n",
      "177:\tlearn: 0.6793064\ttotal: 1.07s\tremaining: 735ms\n",
      "178:\tlearn: 0.6791988\ttotal: 1.08s\tremaining: 729ms\n",
      "179:\tlearn: 0.6789792\ttotal: 1.08s\tremaining: 722ms\n",
      "180:\tlearn: 0.6787075\ttotal: 1.09s\tremaining: 716ms\n",
      "181:\tlearn: 0.6785000\ttotal: 1.09s\tremaining: 710ms\n",
      "182:\tlearn: 0.6782578\ttotal: 1.1s\tremaining: 703ms\n",
      "183:\tlearn: 0.6780926\ttotal: 1.1s\tremaining: 697ms\n",
      "184:\tlearn: 0.6779609\ttotal: 1.11s\tremaining: 690ms\n",
      "185:\tlearn: 0.6777202\ttotal: 1.11s\tremaining: 684ms\n",
      "186:\tlearn: 0.6774143\ttotal: 1.12s\tremaining: 677ms\n",
      "187:\tlearn: 0.6770613\ttotal: 1.13s\tremaining: 671ms\n",
      "188:\tlearn: 0.6769468\ttotal: 1.13s\tremaining: 665ms\n",
      "189:\tlearn: 0.6766225\ttotal: 1.14s\tremaining: 658ms\n",
      "190:\tlearn: 0.6763521\ttotal: 1.14s\tremaining: 652ms\n",
      "191:\tlearn: 0.6759093\ttotal: 1.15s\tremaining: 646ms\n",
      "192:\tlearn: 0.6756899\ttotal: 1.15s\tremaining: 639ms\n",
      "193:\tlearn: 0.6754265\ttotal: 1.16s\tremaining: 633ms\n",
      "194:\tlearn: 0.6752286\ttotal: 1.16s\tremaining: 627ms\n",
      "195:\tlearn: 0.6750735\ttotal: 1.17s\tremaining: 621ms\n",
      "196:\tlearn: 0.6749758\ttotal: 1.18s\tremaining: 615ms\n",
      "197:\tlearn: 0.6747822\ttotal: 1.18s\tremaining: 610ms\n",
      "198:\tlearn: 0.6745848\ttotal: 1.19s\tremaining: 603ms\n",
      "199:\tlearn: 0.6743064\ttotal: 1.19s\tremaining: 597ms\n",
      "200:\tlearn: 0.6740929\ttotal: 1.2s\tremaining: 591ms\n",
      "201:\tlearn: 0.6738261\ttotal: 1.2s\tremaining: 585ms\n",
      "202:\tlearn: 0.6736186\ttotal: 1.21s\tremaining: 578ms\n",
      "203:\tlearn: 0.6734258\ttotal: 1.22s\tremaining: 572ms\n",
      "204:\tlearn: 0.6731006\ttotal: 1.22s\tremaining: 566ms\n",
      "205:\tlearn: 0.6729178\ttotal: 1.23s\tremaining: 559ms\n",
      "206:\tlearn: 0.6728008\ttotal: 1.23s\tremaining: 553ms\n",
      "207:\tlearn: 0.6726040\ttotal: 1.24s\tremaining: 547ms\n",
      "208:\tlearn: 0.6722880\ttotal: 1.24s\tremaining: 541ms\n",
      "209:\tlearn: 0.6719992\ttotal: 1.25s\tremaining: 535ms\n",
      "210:\tlearn: 0.6717141\ttotal: 1.25s\tremaining: 529ms\n",
      "211:\tlearn: 0.6715837\ttotal: 1.26s\tremaining: 522ms\n",
      "212:\tlearn: 0.6713350\ttotal: 1.26s\tremaining: 516ms\n",
      "213:\tlearn: 0.6711283\ttotal: 1.27s\tremaining: 510ms\n",
      "214:\tlearn: 0.6708570\ttotal: 1.27s\tremaining: 504ms\n",
      "215:\tlearn: 0.6703870\ttotal: 1.28s\tremaining: 498ms\n",
      "216:\tlearn: 0.6701590\ttotal: 1.28s\tremaining: 492ms\n",
      "217:\tlearn: 0.6700615\ttotal: 1.29s\tremaining: 485ms\n",
      "218:\tlearn: 0.6698384\ttotal: 1.29s\tremaining: 479ms\n",
      "219:\tlearn: 0.6695544\ttotal: 1.3s\tremaining: 473ms\n",
      "220:\tlearn: 0.6693170\ttotal: 1.31s\tremaining: 467ms\n",
      "221:\tlearn: 0.6691462\ttotal: 1.31s\tremaining: 461ms\n",
      "222:\tlearn: 0.6688191\ttotal: 1.32s\tremaining: 455ms\n",
      "223:\tlearn: 0.6684846\ttotal: 1.32s\tremaining: 449ms\n",
      "224:\tlearn: 0.6683718\ttotal: 1.33s\tremaining: 443ms\n",
      "225:\tlearn: 0.6681095\ttotal: 1.33s\tremaining: 437ms\n",
      "226:\tlearn: 0.6678199\ttotal: 1.34s\tremaining: 431ms\n",
      "227:\tlearn: 0.6675496\ttotal: 1.35s\tremaining: 425ms\n",
      "228:\tlearn: 0.6672544\ttotal: 1.35s\tremaining: 419ms\n",
      "229:\tlearn: 0.6670559\ttotal: 1.36s\tremaining: 413ms\n",
      "230:\tlearn: 0.6666793\ttotal: 1.36s\tremaining: 407ms\n",
      "231:\tlearn: 0.6665645\ttotal: 1.37s\tremaining: 401ms\n",
      "232:\tlearn: 0.6663121\ttotal: 1.37s\tremaining: 395ms\n",
      "233:\tlearn: 0.6660358\ttotal: 1.38s\tremaining: 389ms\n",
      "234:\tlearn: 0.6658186\ttotal: 1.39s\tremaining: 383ms\n",
      "235:\tlearn: 0.6654950\ttotal: 1.39s\tremaining: 377ms\n",
      "236:\tlearn: 0.6653635\ttotal: 1.4s\tremaining: 371ms\n",
      "237:\tlearn: 0.6651501\ttotal: 1.4s\tremaining: 366ms\n",
      "238:\tlearn: 0.6649676\ttotal: 1.41s\tremaining: 360ms\n",
      "239:\tlearn: 0.6647443\ttotal: 1.41s\tremaining: 354ms\n",
      "240:\tlearn: 0.6646156\ttotal: 1.42s\tremaining: 348ms\n",
      "241:\tlearn: 0.6644916\ttotal: 1.43s\tremaining: 342ms\n",
      "242:\tlearn: 0.6644134\ttotal: 1.43s\tremaining: 336ms\n",
      "243:\tlearn: 0.6642222\ttotal: 1.44s\tremaining: 330ms\n",
      "244:\tlearn: 0.6639145\ttotal: 1.44s\tremaining: 324ms\n",
      "245:\tlearn: 0.6636801\ttotal: 1.45s\tremaining: 318ms\n",
      "246:\tlearn: 0.6632706\ttotal: 1.45s\tremaining: 312ms\n",
      "247:\tlearn: 0.6631025\ttotal: 1.46s\tremaining: 306ms\n",
      "248:\tlearn: 0.6629269\ttotal: 1.46s\tremaining: 300ms\n",
      "249:\tlearn: 0.6627558\ttotal: 1.47s\tremaining: 294ms\n",
      "250:\tlearn: 0.6625230\ttotal: 1.48s\tremaining: 288ms\n",
      "251:\tlearn: 0.6622841\ttotal: 1.48s\tremaining: 282ms\n",
      "252:\tlearn: 0.6620956\ttotal: 1.49s\tremaining: 276ms\n",
      "253:\tlearn: 0.6618617\ttotal: 1.49s\tremaining: 271ms\n",
      "254:\tlearn: 0.6617341\ttotal: 1.5s\tremaining: 265ms\n",
      "255:\tlearn: 0.6615511\ttotal: 1.5s\tremaining: 259ms\n",
      "256:\tlearn: 0.6613594\ttotal: 1.51s\tremaining: 253ms\n",
      "257:\tlearn: 0.6611178\ttotal: 1.51s\tremaining: 247ms\n",
      "258:\tlearn: 0.6608614\ttotal: 1.52s\tremaining: 241ms\n",
      "259:\tlearn: 0.6604988\ttotal: 1.53s\tremaining: 235ms\n",
      "260:\tlearn: 0.6602466\ttotal: 1.53s\tremaining: 229ms\n",
      "261:\tlearn: 0.6599955\ttotal: 1.54s\tremaining: 223ms\n",
      "262:\tlearn: 0.6597054\ttotal: 1.54s\tremaining: 217ms\n",
      "263:\tlearn: 0.6595785\ttotal: 1.55s\tremaining: 211ms\n",
      "264:\tlearn: 0.6593887\ttotal: 1.55s\tremaining: 205ms\n",
      "265:\tlearn: 0.6592600\ttotal: 1.56s\tremaining: 199ms\n",
      "266:\tlearn: 0.6591580\ttotal: 1.57s\tremaining: 194ms\n",
      "267:\tlearn: 0.6589472\ttotal: 1.57s\tremaining: 188ms\n",
      "268:\tlearn: 0.6587035\ttotal: 1.58s\tremaining: 182ms\n",
      "269:\tlearn: 0.6585131\ttotal: 1.58s\tremaining: 176ms\n",
      "270:\tlearn: 0.6582320\ttotal: 1.59s\tremaining: 170ms\n",
      "271:\tlearn: 0.6581307\ttotal: 1.59s\tremaining: 164ms\n",
      "272:\tlearn: 0.6578864\ttotal: 1.6s\tremaining: 158ms\n",
      "273:\tlearn: 0.6577162\ttotal: 1.6s\tremaining: 152ms\n",
      "274:\tlearn: 0.6574203\ttotal: 1.61s\tremaining: 146ms\n",
      "275:\tlearn: 0.6573086\ttotal: 1.62s\tremaining: 141ms\n",
      "276:\tlearn: 0.6570447\ttotal: 1.62s\tremaining: 135ms\n",
      "277:\tlearn: 0.6568172\ttotal: 1.63s\tremaining: 129ms\n",
      "278:\tlearn: 0.6565818\ttotal: 1.63s\tremaining: 123ms\n",
      "279:\tlearn: 0.6564033\ttotal: 1.64s\tremaining: 117ms\n",
      "280:\tlearn: 0.6558969\ttotal: 1.64s\tremaining: 111ms\n",
      "281:\tlearn: 0.6557175\ttotal: 1.65s\tremaining: 105ms\n",
      "282:\tlearn: 0.6554100\ttotal: 1.66s\tremaining: 99.5ms\n",
      "283:\tlearn: 0.6553040\ttotal: 1.66s\tremaining: 93.6ms\n",
      "284:\tlearn: 0.6550741\ttotal: 1.67s\tremaining: 87.7ms\n",
      "285:\tlearn: 0.6547515\ttotal: 1.67s\tremaining: 81.9ms\n",
      "286:\tlearn: 0.6545225\ttotal: 1.68s\tremaining: 76ms\n",
      "287:\tlearn: 0.6544488\ttotal: 1.68s\tremaining: 70.1ms\n",
      "288:\tlearn: 0.6542965\ttotal: 1.69s\tremaining: 64.3ms\n",
      "289:\tlearn: 0.6539549\ttotal: 1.69s\tremaining: 58.4ms\n",
      "290:\tlearn: 0.6538154\ttotal: 1.7s\tremaining: 52.6ms\n",
      "291:\tlearn: 0.6536573\ttotal: 1.71s\tremaining: 46.7ms\n",
      "292:\tlearn: 0.6534931\ttotal: 1.71s\tremaining: 40.9ms\n",
      "293:\tlearn: 0.6533516\ttotal: 1.72s\tremaining: 35.1ms\n",
      "294:\tlearn: 0.6532494\ttotal: 1.72s\tremaining: 29.2ms\n",
      "295:\tlearn: 0.6529555\ttotal: 1.73s\tremaining: 23.4ms\n",
      "296:\tlearn: 0.6527301\ttotal: 1.73s\tremaining: 17.5ms\n",
      "297:\tlearn: 0.6526237\ttotal: 1.74s\tremaining: 11.7ms\n",
      "298:\tlearn: 0.6524011\ttotal: 1.74s\tremaining: 5.83ms\n",
      "299:\tlearn: 0.6522955\ttotal: 1.75s\tremaining: 0us\n"
     ]
    }
   ],
   "source": [
    "model_run.hyper_search('CatBoost', params=CatBoost_params, searcher_kwargs=search_options, set_to_train=True)"
   ]
  },
  {
   "cell_type": "markdown",
   "metadata": {},
   "source": [
    "## Test Models"
   ]
  },
  {
   "cell_type": "code",
   "execution_count": 13,
   "metadata": {},
   "outputs": [
    {
     "data": {
      "text/plain": [
       "0.7105723905723905"
      ]
     },
     "execution_count": 13,
     "metadata": {},
     "output_type": "execute_result"
    }
   ],
   "source": [
    "# Gradient Boost\n",
    "gb_model=model_run.get_model('GradientBoost')['model_pipeline']\n",
    "Gradient_Boost = gb_model.score(X=model_run._X_test, y=model_run._y_test)\n",
    "Gradient_Boost"
   ]
  },
  {
   "cell_type": "code",
   "execution_count": 14,
   "metadata": {},
   "outputs": [
    {
     "data": {
      "text/plain": [
       "0.8061279461279461"
      ]
     },
     "execution_count": 14,
     "metadata": {},
     "output_type": "execute_result"
    }
   ],
   "source": [
    "# Gradient Boost 2\n",
    "gb2_model= model_run.get_model('GradientBoost2')['model_pipeline']\n",
    "Gradient_Boost2 = gb2_model.score(X=model_run._X_test, y=model_run._y_test)\n",
    "Gradient_Boost2 "
   ]
  },
  {
   "cell_type": "code",
   "execution_count": 15,
   "metadata": {},
   "outputs": [
    {
     "data": {
      "text/plain": [
       "0.8054545454545454"
      ]
     },
     "execution_count": 15,
     "metadata": {},
     "output_type": "execute_result"
    }
   ],
   "source": [
    "# Gradient Boost 3\n",
    "gb3_model= model_run.get_model('GradientBoost3')['model_pipeline']\n",
    "Gradient_Boost3 = gb3_model.score(X=model_run._X_test, y=model_run._y_test)\n",
    "Gradient_Boost3 "
   ]
  },
  {
   "cell_type": "code",
   "execution_count": 16,
   "metadata": {},
   "outputs": [
    {
     "data": {
      "text/plain": [
       "0.29846332133089515"
      ]
     },
     "execution_count": 16,
     "metadata": {},
     "output_type": "execute_result"
    }
   ],
   "source": [
    "# XGBoost\n",
    "xgb_model= model_run.get_model('XGBoost')['model_pipeline']\n",
    "XG_Boost = xgb_model.score(X=model_run._X_test, y=model_run._y_test)\n",
    "XG_Boost"
   ]
  },
  {
   "cell_type": "code",
   "execution_count": 17,
   "metadata": {},
   "outputs": [
    {
     "data": {
      "text/plain": [
       "0.6808754208754209"
      ]
     },
     "execution_count": 17,
     "metadata": {},
     "output_type": "execute_result"
    }
   ],
   "source": [
    "# CatBoost\n",
    "cb_model= model_run.get_model('CatBoost')['model_pipeline']\n",
    "Cat_Boost = cb_model.score(X=model_run._X_test, y=model_run._y_test)\n",
    "Cat_Boost"
   ]
  },
  {
   "cell_type": "code",
   "execution_count": 18,
   "metadata": {},
   "outputs": [],
   "source": [
    "boost_models = {'Gradient_Boost': 0.705993265993266,\n",
    "    'Gradient_Boost2': 0.8046464646464646,\n",
    "    'Gradient_Boost3': 0.8052525252525252,\n",
    "    'XG_Boost': 0.29846332133089515,\n",
    "    'Cat_Boost': 0.6808754208754209\n",
    "    }"
   ]
  },
  {
   "cell_type": "markdown",
   "metadata": {},
   "source": [
    "## Modeler"
   ]
  },
  {
   "cell_type": "markdown",
   "metadata": {},
   "source": [
    "### Model 1"
   ]
  },
  {
   "cell_type": "code",
   "execution_count": 21,
   "metadata": {},
   "outputs": [
    {
     "name": "stderr",
     "output_type": "stream",
     "text": [
      "root - INFO - GradientBoost2 has been fit.\n"
     ]
    }
   ],
   "source": [
    "model_run.train_model('GradientBoost2', cv=False)"
   ]
  },
  {
   "cell_type": "code",
   "execution_count": 23,
   "metadata": {},
   "outputs": [
    {
     "data": {
      "image/png": "[encoded data removed]",
      "text/plain": [
       "<Figure size 720x288 with 1 Axes>"
      ]
     },
     "metadata": {
      "needs_background": "light"
     },
     "output_type": "display_data"
    }
   ],
   "source": [
    "importance_kwargs = dict(n_repeats=10, n_jobs=3)\n",
    "model_run.permutation_importance('GradientBoost2', perm_kwargs=importance_kwargs)"
   ]
  },
  {
   "cell_type": "markdown",
   "metadata": {},
   "source": [
    "### Model 2"
   ]
  },
  {
   "cell_type": "code",
   "execution_count": 29,
   "metadata": {},
   "outputs": [
    {
     "name": "stderr",
     "output_type": "stream",
     "text": [
      "root - INFO - GradientBoost3 has been fit.\n"
     ]
    }
   ],
   "source": [
    "model_run.train_model('GradientBoost3', cv=False)"
   ]
  },
  {
   "cell_type": "code",
   "execution_count": 30,
   "metadata": {},
   "outputs": [
    {
     "data": {
      "image/png": "[encoded data removed]",
      "text/plain": [
       "<Figure size 720x288 with 1 Axes>"
      ]
     },
     "metadata": {
      "needs_background": "light"
     },
     "output_type": "display_data"
    }
   ],
   "source": [
    "importance_kwargs = dict(n_repeats=10, n_jobs=3)\n",
    "model_run.permutation_importance('GradientBoost3', perm_kwargs=importance_kwargs)"
   ]
  }
 ],
 "metadata": {
  "interpreter": {
   "hash": "a8985f70e60044e6b9ee20c3abf47b95903615267cecf7f0794b337aafc6df41"
  },
  "kernelspec": {
   "display_name": "Python 3.8.5 64-bit ('learn-env': conda)",
   "language": "python",
   "name": "python3"
  },
  "language_info": {
   "codemirror_mode": {
    "name": "ipython",
    "version": 3
   },
   "file_extension": ".py",
   "mimetype": "text/x-python",
   "name": "python",
   "nbconvert_exporter": "python",
   "pygments_lexer": "ipython3",
   "version": "3.8.5"
  },
  "orig_nbformat": 4
 },
 "nbformat": 4,
 "nbformat_minor": 2
}
