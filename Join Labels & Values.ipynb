{
 "cells": [
  {
   "cell_type": "code",
   "execution_count": 3,
   "metadata": {},
   "outputs": [],
   "source": [
    "import pandas as pd\n",
    "from pandasql import sqldf\n",
    "from sqlalchemy import create_engine\n",
    "engine = create_engine('sqlite://', echo=False)\n",
    "pysqldf = lambda q: sqldf(q, globals())\n",
    "#con=engine\n",
    "#import pyodbc \n",
    "#conn = pyodbc.connect('Driver={SQL Server};'\n",
    "#                      'Server=RON\\SQLEXPRESS;'\n",
    " #                     'Database=test_database;'\n",
    "  #                    'Trusted_Connection=yes;')"
   ]
  },
  {
   "cell_type": "code",
   "execution_count": 4,
   "metadata": {
    "scrolled": false
   },
   "outputs": [],
   "source": [
    "svalues = pd.read_csv('Training-set-values.csv')\n",
    "labels = pd.read_csv('Training-set-labels.csv')"
   ]
  },
  {
   "cell_type": "code",
   "execution_count": 19,
   "metadata": {},
   "outputs": [],
   "source": [
    "q = \"\"\"SELECT * \n",
    "    FROM svalues\n",
    "        LEFT JOIN labels\n",
    "            ON svalues.Id = labels.id;\"\"\"\n",
    "\n"
   ]
  },
  {
   "cell_type": "code",
   "execution_count": 6,
   "metadata": {
    "scrolled": true
   },
   "outputs": [
    {
     "name": "stdout",
     "output_type": "stream",
     "text": [
      "      id  amount_tsh date_recorded        funder  gps_height     installer  \\\n",
      "0  69572      6000.0    2011-03-14         Roman        1390         Roman   \n",
      "1   8776         0.0    2013-03-06       Grumeti        1399       GRUMETI   \n",
      "2  34310        25.0    2013-02-25  Lottery Club         686  World vision   \n",
      "\n",
      "   longitude  latitude     wpt_name  num_private  ... quality_group  \\\n",
      "0  34.938093 -9.856322         none            0  ...          good   \n",
      "1  34.698766 -2.147466     Zahanati            0  ...          good   \n",
      "2  37.460664 -3.821329  Kwa Mahundi            0  ...          good   \n",
      "\n",
      "       quantity quantity_group                source           source_type  \\\n",
      "0        enough         enough                spring                spring   \n",
      "1  insufficient   insufficient  rainwater harvesting  rainwater harvesting   \n",
      "2        enough         enough                   dam                   dam   \n",
      "\n",
      "  source_class              waterpoint_type  waterpoint_type_group     id  \\\n",
      "0  groundwater           communal standpipe     communal standpipe  69572   \n",
      "1      surface           communal standpipe     communal standpipe   8776   \n",
      "2      surface  communal standpipe multiple     communal standpipe  34310   \n",
      "\n",
      "  status_group  \n",
      "0   functional  \n",
      "1   functional  \n",
      "2   functional  \n",
      "\n",
      "[3 rows x 42 columns]\n"
     ]
    }
   ],
   "source": [
    "joined = pysqldf(q)\n",
    "print(joined.head(3))"
   ]
  },
  {
   "cell_type": "code",
   "execution_count": 21,
   "metadata": {},
   "outputs": [],
   "source": [
    "df = pd.DataFrame(joined)\n",
    "compression_opts = dict(method='zip',\n",
    "                        archive_name='out.csv')  \n",
    "df.to_csv('out.zip', index=False,\n",
    "          compression=compression_opts)  "
   ]
  }
 ],
 "metadata": {
  "kernelspec": {
   "display_name": "Python (learn-env)",
   "language": "python",
   "name": "learn-env"
  },
  "language_info": {
   "codemirror_mode": {
    "name": "ipython",
    "version": 3
   },
   "file_extension": ".py",
   "mimetype": "text/x-python",
   "name": "python",
   "nbconvert_exporter": "python",
   "pygments_lexer": "ipython3",
   "version": "3.8.5"
  }
 },
 "nbformat": 4,
 "nbformat_minor": 4
}
