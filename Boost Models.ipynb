{
 "cells": [
  {
   "cell_type": "code",
   "execution_count": 17,
   "metadata": {},
   "outputs": [],
   "source": [
    "import pandas as pd\n",
    "import numpy as np\n",
    "import scipy.stats as stats\n",
    "import ourfunctions\n",
    "\n",
    "from matplotlib import pyplot as plt\n",
    "import seaborn as sns\n",
    "#from sklearnex import patch_sklearn\n",
    "#patch_sklearn(verbose=False)\n",
    "from sklearn.preprocessing import OneHotEncoder, OrdinalEncoder, StandardScaler, LabelEncoder, FunctionTransformer\n",
    "from sklearn.impute import SimpleImputer\n",
    "from sklearn.pipeline import Pipeline\n",
    "from sklearn.model_selection import train_test_split, cross_val_score, RandomizedSearchCV, GridSearchCV\n",
    "from sklearn.compose import ColumnTransformer, make_column_selector\n",
    "from sklearn.metrics import plot_confusion_matrix, recall_score, accuracy_score, precision_score, f1_score\n",
    "from imblearn.over_sampling import SMOTE\n",
    "from imblearn.pipeline import Pipeline as ImPipeline\n",
    "from sklearn.linear_model import LogisticRegression\n",
    "\n",
    "from sklearn.ensemble import AdaBoostClassifier, GradientBoostingClassifier\n",
    "from xgboost import XGBRegressor\n",
    "from catboost import CatBoostClassifier\n"
   ]
  },
  {
   "cell_type": "code",
   "execution_count": 18,
   "metadata": {},
   "outputs": [],
   "source": [
    "X = pd.read_csv('data/Training-set-values.csv')\n",
    "y = pd.read_csv('data/Training-set-labels.csv')\n",
    "\n",
    "X['date_recorded'] = pd.to_datetime(X['date_recorded']).astype(np.int64)"
   ]
  },
  {
   "cell_type": "markdown",
   "metadata": {},
   "source": [
    "#### Preprocessors"
   ]
  },
  {
   "cell_type": "code",
   "execution_count": 19,
   "metadata": {},
   "outputs": [],
   "source": [
    "# Super basic numeric transformer\n",
    "\n",
    "numeric_transformer = Pipeline(\n",
    "    steps=[('imputer', SimpleImputer(strategy='median'))]\n",
    ")\n",
    "\n",
    "numeric_preprocessor = ColumnTransformer(\n",
    "    transformers=[\n",
    "        (\"numeric\", numeric_transformer, make_column_selector(dtype_include=np.number)),\n",
    "    ]\n",
    ")"
   ]
  },
  {
   "cell_type": "markdown",
   "metadata": {},
   "source": [
    "### Models"
   ]
  },
  {
   "cell_type": "code",
   "execution_count": 20,
   "metadata": {},
   "outputs": [],
   "source": [
    "# Gradient Boost\n",
    "GradBoost = {'classifier': GradientBoostingClassifier(),'preprocessor': numeric_preprocessor}\n",
    "GradBoost2 = {'classifier': GradientBoostingClassifier(),'preprocessor': None}\n",
    "GradBoost3 = {'classifier': GradientBoostingClassifier(),'preprocessor': None}\n",
    "# XGradient Boosting\n",
    "XGBoost = {'classifier': XGBRegressor(objective='reg:squarederror'), 'preprocessor': numeric_preprocessor}\n",
    "# CatBoost\n",
    "CatBoost = {'classifier': CatBoostClassifier(max_depth=3),'preprocessor': numeric_preprocessor}\n",
    "\n",
    "\n",
    "\n",
    "models = {'GradientBoost': GradBoost,\n",
    "    'GradientBoost2': GradBoost2,\n",
    "    'GradientBoost3': GradBoost3,\n",
    "    'XGBoost': XGBoost,\n",
    "    'CatBoost': CatBoost\n",
    "    }\n"
   ]
  },
  {
   "cell_type": "markdown",
   "metadata": {},
   "source": [
    "### Modeler"
   ]
  },
  {
   "cell_type": "code",
   "execution_count": 21,
   "metadata": {},
   "outputs": [],
   "source": [
    "model_run = ourfunctions.Modeler(models, X=X, y=y)\n",
    "\n",
    "# after the model_run object is created so we can add onto the default preprocessor.\n",
    "log_reg_regularized = {'classifier': LogisticRegression(n_jobs=3), 'preprocessor': model_run.create_default_prep(num_add=[('scaling', StandardScaler())])}\n",
    "model_run.add_model('log_reg_regularized', log_reg_regularized)"
   ]
  },
  {
   "cell_type": "markdown",
   "metadata": {},
   "source": [
    "### Search parameters and kwargs"
   ]
  },
  {
   "cell_type": "code",
   "execution_count": 22,
   "metadata": {},
   "outputs": [],
   "source": [
    "GradBoost_params = dict(n_estimators=np.array(range(100, 400)),\n",
    "                    criterion=['friedman_mse', 'squared_error'],\n",
    "                    max_depth=np.array(range(2, 10)),\n",
    "                    min_samples_split=np.array(range(2, 10)),\n",
    "                    min_samples_leaf=np.array(range(1, 10)),\n",
    "                    learning_rate=stats.uniform(loc=0.01, scale=1))\n",
    "\n",
    "GradBoost3_params = dict(n_estimators=np.array(range(200, 1000)),\n",
    "                    criterion=['friedman_mse', 'squared_error'],\n",
    "                    max_depth=np.array(range(2, 10)),\n",
    "                    min_samples_split=np.array(range(2, 10)),\n",
    "                    min_samples_leaf=np.array(range(1, 10)),\n",
    "                    learning_rate=stats.uniform(loc=0.001, scale=1))\n",
    "\n",
    "XGBoost_params = dict(learning_rate =stats.uniform(loc=0.1, scale=0.1),\n",
    "                    n_estimators=np.array(range(100,1200)),\n",
    "                    max_depth=np.array(range(4,30)))\n",
    "\n",
    "CatBoost_params = dict(max_depth =[3,4,5],\n",
    "                         n_estimators = [100,200,300])\n",
    "\n",
    "search_options = {'n_jobs': 3, 'random_state': 9280210, 'n_iter': 20}"
   ]
  },
  {
   "cell_type": "markdown",
   "metadata": {},
   "source": [
    "## RandomizedSearchCV"
   ]
  },
  {
   "cell_type": "code",
   "execution_count": 23,
   "metadata": {},
   "outputs": [],
   "source": [
    "model_run.hyper_search('GradientBoost', params=GradBoost_params, searcher_kwargs=search_options, set_to_train=True)"
   ]
  },
  {
   "cell_type": "code",
   "execution_count": 24,
   "metadata": {},
   "outputs": [
    {
     "name": "stderr",
     "output_type": "stream",
     "text": [
      "/Users/valeriaviscarra/opt/anaconda3/envs/learn-env/lib/python3.8/site-packages/joblib/externals/loky/process_executor.py:688: UserWarning: A worker stopped while some jobs were given to the executor. This can be caused by a too short worker timeout or by a memory leak.\n",
      "  warnings.warn(\n"
     ]
    }
   ],
   "source": [
    "model_run.hyper_search('GradientBoost2', params=GradBoost_params, searcher_kwargs=search_options, set_to_train=True)"
   ]
  },
  {
   "cell_type": "code",
   "execution_count": 25,
   "metadata": {},
   "outputs": [],
   "source": [
    "model_run.hyper_search('GradientBoost3', params=GradBoost3_params, searcher_kwargs=search_options, set_to_train=True)"
   ]
  },
  {
   "cell_type": "code",
   "execution_count": 26,
   "metadata": {},
   "outputs": [
    {
     "name": "stderr",
     "output_type": "stream",
     "text": [
      "/Users/valeriaviscarra/opt/anaconda3/envs/learn-env/lib/python3.8/site-packages/joblib/externals/loky/process_executor.py:688: UserWarning: A worker stopped while some jobs were given to the executor. This can be caused by a too short worker timeout or by a memory leak.\n",
      "  warnings.warn(\n"
     ]
    }
   ],
   "source": [
    "model_run.hyper_search('XGBoost', params=XGBoost_params, searcher_kwargs=search_options, set_to_train=True)"
   ]
  },
  {
   "cell_type": "code",
   "execution_count": 27,
   "metadata": {},
   "outputs": [
    {
     "name": "stderr",
     "output_type": "stream",
     "text": [
      "/Users/valeriaviscarra/opt/anaconda3/envs/learn-env/lib/python3.8/site-packages/sklearn/model_selection/_search.py:278: UserWarning: The total space of parameters 9 is smaller than n_iter=20. Running 9 iterations. For exhaustive searches, use GridSearchCV.\n",
      "  warnings.warn(\n",
      "/Users/valeriaviscarra/opt/anaconda3/envs/learn-env/lib/python3.8/site-packages/joblib/externals/loky/process_executor.py:688: UserWarning: A worker stopped while some jobs were given to the executor. This can be caused by a too short worker timeout or by a memory leak.\n",
      "  warnings.warn(\n"
     ]
    },
    {
     "name": "stdout",
     "output_type": "stream",
     "text": [
      "Learning rate set to 0.265612\n",
      "0:\tlearn: 0.9862021\ttotal: 72.3ms\tremaining: 21.6s\n",
      "1:\tlearn: 0.9216414\ttotal: 78.8ms\tremaining: 11.7s\n",
      "2:\tlearn: 0.8824521\ttotal: 84.7ms\tremaining: 8.38s\n",
      "3:\tlearn: 0.8555248\ttotal: 90.3ms\tremaining: 6.68s\n",
      "4:\tlearn: 0.8364673\ttotal: 95.2ms\tremaining: 5.62s\n",
      "5:\tlearn: 0.8218166\ttotal: 100ms\tremaining: 4.9s\n",
      "6:\tlearn: 0.8129340\ttotal: 105ms\tremaining: 4.39s\n",
      "7:\tlearn: 0.8058792\ttotal: 111ms\tremaining: 4.03s\n",
      "8:\tlearn: 0.7989142\ttotal: 116ms\tremaining: 3.75s\n",
      "9:\tlearn: 0.7937780\ttotal: 121ms\tremaining: 3.52s\n",
      "10:\tlearn: 0.7907538\ttotal: 127ms\tremaining: 3.33s\n",
      "11:\tlearn: 0.7854812\ttotal: 132ms\tremaining: 3.17s\n",
      "12:\tlearn: 0.7833159\ttotal: 137ms\tremaining: 3.02s\n",
      "13:\tlearn: 0.7807781\ttotal: 142ms\tremaining: 2.9s\n",
      "14:\tlearn: 0.7768205\ttotal: 148ms\tremaining: 2.8s\n",
      "15:\tlearn: 0.7742835\ttotal: 153ms\tremaining: 2.71s\n",
      "16:\tlearn: 0.7717098\ttotal: 159ms\tremaining: 2.64s\n",
      "17:\tlearn: 0.7701826\ttotal: 164ms\tremaining: 2.57s\n",
      "18:\tlearn: 0.7680539\ttotal: 169ms\tremaining: 2.5s\n",
      "19:\tlearn: 0.7654467\ttotal: 175ms\tremaining: 2.44s\n",
      "20:\tlearn: 0.7643011\ttotal: 180ms\tremaining: 2.39s\n",
      "21:\tlearn: 0.7621080\ttotal: 185ms\tremaining: 2.34s\n",
      "22:\tlearn: 0.7607630\ttotal: 190ms\tremaining: 2.29s\n",
      "23:\tlearn: 0.7599562\ttotal: 196ms\tremaining: 2.25s\n",
      "24:\tlearn: 0.7587362\ttotal: 201ms\tremaining: 2.21s\n",
      "25:\tlearn: 0.7570620\ttotal: 207ms\tremaining: 2.18s\n",
      "26:\tlearn: 0.7555946\ttotal: 213ms\tremaining: 2.15s\n",
      "27:\tlearn: 0.7547239\ttotal: 218ms\tremaining: 2.12s\n",
      "28:\tlearn: 0.7524917\ttotal: 224ms\tremaining: 2.09s\n",
      "29:\tlearn: 0.7519444\ttotal: 229ms\tremaining: 2.06s\n",
      "30:\tlearn: 0.7502119\ttotal: 235ms\tremaining: 2.04s\n",
      "31:\tlearn: 0.7493089\ttotal: 240ms\tremaining: 2.01s\n",
      "32:\tlearn: 0.7483707\ttotal: 245ms\tremaining: 1.98s\n",
      "33:\tlearn: 0.7474882\ttotal: 250ms\tremaining: 1.95s\n",
      "34:\tlearn: 0.7469998\ttotal: 255ms\tremaining: 1.93s\n",
      "35:\tlearn: 0.7462165\ttotal: 260ms\tremaining: 1.91s\n",
      "36:\tlearn: 0.7454923\ttotal: 266ms\tremaining: 1.89s\n",
      "37:\tlearn: 0.7449400\ttotal: 271ms\tremaining: 1.86s\n",
      "38:\tlearn: 0.7441302\ttotal: 276ms\tremaining: 1.84s\n",
      "39:\tlearn: 0.7433239\ttotal: 281ms\tremaining: 1.83s\n",
      "40:\tlearn: 0.7427218\ttotal: 286ms\tremaining: 1.81s\n",
      "41:\tlearn: 0.7421874\ttotal: 292ms\tremaining: 1.79s\n",
      "42:\tlearn: 0.7416821\ttotal: 297ms\tremaining: 1.77s\n",
      "43:\tlearn: 0.7410810\ttotal: 302ms\tremaining: 1.76s\n",
      "44:\tlearn: 0.7402066\ttotal: 308ms\tremaining: 1.74s\n",
      "45:\tlearn: 0.7397162\ttotal: 313ms\tremaining: 1.73s\n",
      "46:\tlearn: 0.7389758\ttotal: 319ms\tremaining: 1.72s\n",
      "47:\tlearn: 0.7376477\ttotal: 324ms\tremaining: 1.7s\n",
      "48:\tlearn: 0.7358570\ttotal: 330ms\tremaining: 1.69s\n",
      "49:\tlearn: 0.7345929\ttotal: 337ms\tremaining: 1.69s\n",
      "50:\tlearn: 0.7341370\ttotal: 342ms\tremaining: 1.67s\n",
      "51:\tlearn: 0.7335331\ttotal: 347ms\tremaining: 1.66s\n",
      "52:\tlearn: 0.7328099\ttotal: 353ms\tremaining: 1.64s\n",
      "53:\tlearn: 0.7319877\ttotal: 358ms\tremaining: 1.63s\n",
      "54:\tlearn: 0.7313519\ttotal: 364ms\tremaining: 1.62s\n",
      "55:\tlearn: 0.7308233\ttotal: 369ms\tremaining: 1.61s\n",
      "56:\tlearn: 0.7299381\ttotal: 375ms\tremaining: 1.6s\n",
      "57:\tlearn: 0.7292388\ttotal: 380ms\tremaining: 1.58s\n",
      "58:\tlearn: 0.7285104\ttotal: 385ms\tremaining: 1.57s\n",
      "59:\tlearn: 0.7278373\ttotal: 391ms\tremaining: 1.56s\n",
      "60:\tlearn: 0.7272494\ttotal: 397ms\tremaining: 1.55s\n",
      "61:\tlearn: 0.7268308\ttotal: 402ms\tremaining: 1.54s\n",
      "62:\tlearn: 0.7259207\ttotal: 407ms\tremaining: 1.53s\n",
      "63:\tlearn: 0.7250652\ttotal: 413ms\tremaining: 1.52s\n",
      "64:\tlearn: 0.7245775\ttotal: 419ms\tremaining: 1.51s\n",
      "65:\tlearn: 0.7242131\ttotal: 424ms\tremaining: 1.5s\n",
      "66:\tlearn: 0.7237149\ttotal: 430ms\tremaining: 1.5s\n",
      "67:\tlearn: 0.7228607\ttotal: 435ms\tremaining: 1.49s\n",
      "68:\tlearn: 0.7216970\ttotal: 441ms\tremaining: 1.48s\n",
      "69:\tlearn: 0.7208336\ttotal: 446ms\tremaining: 1.47s\n",
      "70:\tlearn: 0.7200949\ttotal: 454ms\tremaining: 1.46s\n",
      "71:\tlearn: 0.7199579\ttotal: 459ms\tremaining: 1.45s\n",
      "72:\tlearn: 0.7196629\ttotal: 465ms\tremaining: 1.44s\n",
      "73:\tlearn: 0.7189871\ttotal: 470ms\tremaining: 1.43s\n",
      "74:\tlearn: 0.7185068\ttotal: 478ms\tremaining: 1.43s\n",
      "75:\tlearn: 0.7175748\ttotal: 483ms\tremaining: 1.42s\n",
      "76:\tlearn: 0.7167162\ttotal: 489ms\tremaining: 1.41s\n",
      "77:\tlearn: 0.7161447\ttotal: 494ms\tremaining: 1.41s\n",
      "78:\tlearn: 0.7157405\ttotal: 499ms\tremaining: 1.4s\n",
      "79:\tlearn: 0.7155016\ttotal: 503ms\tremaining: 1.38s\n",
      "80:\tlearn: 0.7152352\ttotal: 509ms\tremaining: 1.38s\n",
      "81:\tlearn: 0.7144699\ttotal: 515ms\tremaining: 1.37s\n",
      "82:\tlearn: 0.7139931\ttotal: 520ms\tremaining: 1.36s\n",
      "83:\tlearn: 0.7136669\ttotal: 525ms\tremaining: 1.35s\n",
      "84:\tlearn: 0.7132828\ttotal: 530ms\tremaining: 1.34s\n",
      "85:\tlearn: 0.7130521\ttotal: 535ms\tremaining: 1.33s\n",
      "86:\tlearn: 0.7128256\ttotal: 540ms\tremaining: 1.32s\n",
      "87:\tlearn: 0.7122340\ttotal: 546ms\tremaining: 1.31s\n",
      "88:\tlearn: 0.7117152\ttotal: 551ms\tremaining: 1.31s\n",
      "89:\tlearn: 0.7111235\ttotal: 557ms\tremaining: 1.3s\n",
      "90:\tlearn: 0.7105650\ttotal: 562ms\tremaining: 1.29s\n",
      "91:\tlearn: 0.7101654\ttotal: 568ms\tremaining: 1.28s\n",
      "92:\tlearn: 0.7097073\ttotal: 573ms\tremaining: 1.27s\n",
      "93:\tlearn: 0.7093692\ttotal: 579ms\tremaining: 1.27s\n",
      "94:\tlearn: 0.7087599\ttotal: 585ms\tremaining: 1.26s\n",
      "95:\tlearn: 0.7083993\ttotal: 590ms\tremaining: 1.25s\n",
      "96:\tlearn: 0.7079316\ttotal: 595ms\tremaining: 1.25s\n",
      "97:\tlearn: 0.7075359\ttotal: 601ms\tremaining: 1.24s\n",
      "98:\tlearn: 0.7069493\ttotal: 607ms\tremaining: 1.23s\n",
      "99:\tlearn: 0.7066890\ttotal: 613ms\tremaining: 1.23s\n",
      "100:\tlearn: 0.7062836\ttotal: 618ms\tremaining: 1.22s\n",
      "101:\tlearn: 0.7057782\ttotal: 623ms\tremaining: 1.21s\n",
      "102:\tlearn: 0.7052138\ttotal: 629ms\tremaining: 1.2s\n",
      "103:\tlearn: 0.7048717\ttotal: 635ms\tremaining: 1.2s\n",
      "104:\tlearn: 0.7043149\ttotal: 640ms\tremaining: 1.19s\n",
      "105:\tlearn: 0.7037837\ttotal: 645ms\tremaining: 1.18s\n",
      "106:\tlearn: 0.7035477\ttotal: 651ms\tremaining: 1.17s\n",
      "107:\tlearn: 0.7031474\ttotal: 656ms\tremaining: 1.17s\n",
      "108:\tlearn: 0.7028812\ttotal: 661ms\tremaining: 1.16s\n",
      "109:\tlearn: 0.7024816\ttotal: 667ms\tremaining: 1.15s\n",
      "110:\tlearn: 0.7023014\ttotal: 672ms\tremaining: 1.14s\n",
      "111:\tlearn: 0.7020343\ttotal: 677ms\tremaining: 1.14s\n",
      "112:\tlearn: 0.7014935\ttotal: 683ms\tremaining: 1.13s\n",
      "113:\tlearn: 0.7008822\ttotal: 688ms\tremaining: 1.12s\n",
      "114:\tlearn: 0.7001683\ttotal: 694ms\tremaining: 1.12s\n",
      "115:\tlearn: 0.6997198\ttotal: 699ms\tremaining: 1.11s\n",
      "116:\tlearn: 0.6994358\ttotal: 704ms\tremaining: 1.1s\n",
      "117:\tlearn: 0.6989996\ttotal: 709ms\tremaining: 1.09s\n",
      "118:\tlearn: 0.6982237\ttotal: 714ms\tremaining: 1.09s\n",
      "119:\tlearn: 0.6979792\ttotal: 720ms\tremaining: 1.08s\n",
      "120:\tlearn: 0.6974945\ttotal: 725ms\tremaining: 1.07s\n",
      "121:\tlearn: 0.6973029\ttotal: 730ms\tremaining: 1.06s\n",
      "122:\tlearn: 0.6965589\ttotal: 736ms\tremaining: 1.06s\n",
      "123:\tlearn: 0.6958777\ttotal: 741ms\tremaining: 1.05s\n",
      "124:\tlearn: 0.6954549\ttotal: 747ms\tremaining: 1.04s\n",
      "125:\tlearn: 0.6948730\ttotal: 752ms\tremaining: 1.04s\n",
      "126:\tlearn: 0.6944926\ttotal: 758ms\tremaining: 1.03s\n",
      "127:\tlearn: 0.6942409\ttotal: 763ms\tremaining: 1.02s\n",
      "128:\tlearn: 0.6938831\ttotal: 768ms\tremaining: 1.02s\n",
      "129:\tlearn: 0.6933897\ttotal: 774ms\tremaining: 1.01s\n",
      "130:\tlearn: 0.6929890\ttotal: 779ms\tremaining: 1s\n",
      "131:\tlearn: 0.6927727\ttotal: 785ms\tremaining: 999ms\n",
      "132:\tlearn: 0.6925038\ttotal: 790ms\tremaining: 992ms\n",
      "133:\tlearn: 0.6922629\ttotal: 795ms\tremaining: 985ms\n",
      "134:\tlearn: 0.6921055\ttotal: 801ms\tremaining: 978ms\n",
      "135:\tlearn: 0.6915043\ttotal: 806ms\tremaining: 972ms\n",
      "136:\tlearn: 0.6911007\ttotal: 812ms\tremaining: 966ms\n",
      "137:\tlearn: 0.6909734\ttotal: 817ms\tremaining: 959ms\n",
      "138:\tlearn: 0.6907828\ttotal: 822ms\tremaining: 952ms\n",
      "139:\tlearn: 0.6903439\ttotal: 827ms\tremaining: 946ms\n",
      "140:\tlearn: 0.6899446\ttotal: 834ms\tremaining: 940ms\n",
      "141:\tlearn: 0.6897336\ttotal: 839ms\tremaining: 933ms\n",
      "142:\tlearn: 0.6890028\ttotal: 844ms\tremaining: 926ms\n",
      "143:\tlearn: 0.6888017\ttotal: 849ms\tremaining: 920ms\n",
      "144:\tlearn: 0.6885661\ttotal: 854ms\tremaining: 913ms\n",
      "145:\tlearn: 0.6883078\ttotal: 860ms\tremaining: 907ms\n",
      "146:\tlearn: 0.6880787\ttotal: 866ms\tremaining: 901ms\n",
      "147:\tlearn: 0.6879440\ttotal: 871ms\tremaining: 895ms\n",
      "148:\tlearn: 0.6877710\ttotal: 876ms\tremaining: 888ms\n",
      "149:\tlearn: 0.6874680\ttotal: 882ms\tremaining: 882ms\n",
      "150:\tlearn: 0.6868596\ttotal: 887ms\tremaining: 875ms\n",
      "151:\tlearn: 0.6866838\ttotal: 892ms\tremaining: 868ms\n",
      "152:\tlearn: 0.6865547\ttotal: 897ms\tremaining: 862ms\n",
      "153:\tlearn: 0.6863040\ttotal: 902ms\tremaining: 856ms\n",
      "154:\tlearn: 0.6860710\ttotal: 908ms\tremaining: 849ms\n",
      "155:\tlearn: 0.6858833\ttotal: 912ms\tremaining: 842ms\n",
      "156:\tlearn: 0.6856223\ttotal: 917ms\tremaining: 836ms\n",
      "157:\tlearn: 0.6855290\ttotal: 923ms\tremaining: 829ms\n",
      "158:\tlearn: 0.6852198\ttotal: 928ms\tremaining: 823ms\n",
      "159:\tlearn: 0.6850933\ttotal: 933ms\tremaining: 816ms\n",
      "160:\tlearn: 0.6847890\ttotal: 939ms\tremaining: 811ms\n",
      "161:\tlearn: 0.6844359\ttotal: 944ms\tremaining: 804ms\n",
      "162:\tlearn: 0.6842905\ttotal: 949ms\tremaining: 797ms\n",
      "163:\tlearn: 0.6837388\ttotal: 954ms\tremaining: 791ms\n",
      "164:\tlearn: 0.6835274\ttotal: 960ms\tremaining: 785ms\n",
      "165:\tlearn: 0.6830261\ttotal: 965ms\tremaining: 779ms\n",
      "166:\tlearn: 0.6829305\ttotal: 970ms\tremaining: 772ms\n",
      "167:\tlearn: 0.6824248\ttotal: 975ms\tremaining: 766ms\n",
      "168:\tlearn: 0.6822852\ttotal: 980ms\tremaining: 760ms\n",
      "169:\tlearn: 0.6821000\ttotal: 986ms\tremaining: 754ms\n",
      "170:\tlearn: 0.6819819\ttotal: 991ms\tremaining: 747ms\n",
      "171:\tlearn: 0.6818358\ttotal: 997ms\tremaining: 742ms\n",
      "172:\tlearn: 0.6815077\ttotal: 1s\tremaining: 736ms\n",
      "173:\tlearn: 0.6808999\ttotal: 1.01s\tremaining: 731ms\n",
      "174:\tlearn: 0.6803657\ttotal: 1.01s\tremaining: 725ms\n",
      "175:\tlearn: 0.6800620\ttotal: 1.02s\tremaining: 718ms\n",
      "176:\tlearn: 0.6797150\ttotal: 1.02s\tremaining: 712ms\n",
      "177:\tlearn: 0.6793064\ttotal: 1.03s\tremaining: 706ms\n",
      "178:\tlearn: 0.6791988\ttotal: 1.03s\tremaining: 700ms\n",
      "179:\tlearn: 0.6789792\ttotal: 1.04s\tremaining: 693ms\n",
      "180:\tlearn: 0.6787075\ttotal: 1.04s\tremaining: 688ms\n",
      "181:\tlearn: 0.6785000\ttotal: 1.05s\tremaining: 682ms\n",
      "182:\tlearn: 0.6782578\ttotal: 1.06s\tremaining: 676ms\n",
      "183:\tlearn: 0.6780926\ttotal: 1.06s\tremaining: 669ms\n",
      "184:\tlearn: 0.6779609\ttotal: 1.07s\tremaining: 663ms\n",
      "185:\tlearn: 0.6777202\ttotal: 1.07s\tremaining: 657ms\n",
      "186:\tlearn: 0.6774143\ttotal: 1.08s\tremaining: 651ms\n",
      "187:\tlearn: 0.6770613\ttotal: 1.08s\tremaining: 645ms\n",
      "188:\tlearn: 0.6769468\ttotal: 1.09s\tremaining: 639ms\n",
      "189:\tlearn: 0.6766225\ttotal: 1.09s\tremaining: 633ms\n",
      "190:\tlearn: 0.6763521\ttotal: 1.1s\tremaining: 627ms\n",
      "191:\tlearn: 0.6759093\ttotal: 1.1s\tremaining: 621ms\n",
      "192:\tlearn: 0.6756899\ttotal: 1.11s\tremaining: 615ms\n",
      "193:\tlearn: 0.6754265\ttotal: 1.11s\tremaining: 609ms\n",
      "194:\tlearn: 0.6752286\ttotal: 1.12s\tremaining: 603ms\n",
      "195:\tlearn: 0.6750735\ttotal: 1.13s\tremaining: 597ms\n",
      "196:\tlearn: 0.6749758\ttotal: 1.13s\tremaining: 591ms\n",
      "197:\tlearn: 0.6747822\ttotal: 1.14s\tremaining: 585ms\n",
      "198:\tlearn: 0.6745848\ttotal: 1.14s\tremaining: 579ms\n",
      "199:\tlearn: 0.6743064\ttotal: 1.15s\tremaining: 573ms\n",
      "200:\tlearn: 0.6740929\ttotal: 1.15s\tremaining: 567ms\n",
      "201:\tlearn: 0.6738261\ttotal: 1.16s\tremaining: 561ms\n",
      "202:\tlearn: 0.6736186\ttotal: 1.16s\tremaining: 555ms\n",
      "203:\tlearn: 0.6734258\ttotal: 1.17s\tremaining: 550ms\n",
      "204:\tlearn: 0.6731006\ttotal: 1.17s\tremaining: 544ms\n",
      "205:\tlearn: 0.6729178\ttotal: 1.18s\tremaining: 538ms\n",
      "206:\tlearn: 0.6728008\ttotal: 1.18s\tremaining: 532ms\n",
      "207:\tlearn: 0.6726040\ttotal: 1.19s\tremaining: 526ms\n",
      "208:\tlearn: 0.6722880\ttotal: 1.19s\tremaining: 520ms\n",
      "209:\tlearn: 0.6719992\ttotal: 1.2s\tremaining: 514ms\n",
      "210:\tlearn: 0.6717141\ttotal: 1.2s\tremaining: 508ms\n",
      "211:\tlearn: 0.6715837\ttotal: 1.21s\tremaining: 503ms\n",
      "212:\tlearn: 0.6713350\ttotal: 1.22s\tremaining: 497ms\n",
      "213:\tlearn: 0.6711283\ttotal: 1.22s\tremaining: 491ms\n",
      "214:\tlearn: 0.6708570\ttotal: 1.23s\tremaining: 485ms\n",
      "215:\tlearn: 0.6703870\ttotal: 1.23s\tremaining: 479ms\n",
      "216:\tlearn: 0.6701590\ttotal: 1.24s\tremaining: 474ms\n",
      "217:\tlearn: 0.6700615\ttotal: 1.24s\tremaining: 468ms\n",
      "218:\tlearn: 0.6698384\ttotal: 1.25s\tremaining: 462ms\n",
      "219:\tlearn: 0.6695544\ttotal: 1.25s\tremaining: 456ms\n",
      "220:\tlearn: 0.6693170\ttotal: 1.26s\tremaining: 451ms\n",
      "221:\tlearn: 0.6691462\ttotal: 1.26s\tremaining: 445ms\n",
      "222:\tlearn: 0.6688191\ttotal: 1.27s\tremaining: 439ms\n",
      "223:\tlearn: 0.6684846\ttotal: 1.27s\tremaining: 433ms\n",
      "224:\tlearn: 0.6683718\ttotal: 1.28s\tremaining: 427ms\n",
      "225:\tlearn: 0.6681095\ttotal: 1.29s\tremaining: 421ms\n",
      "226:\tlearn: 0.6678199\ttotal: 1.29s\tremaining: 416ms\n",
      "227:\tlearn: 0.6675496\ttotal: 1.3s\tremaining: 410ms\n",
      "228:\tlearn: 0.6672544\ttotal: 1.3s\tremaining: 404ms\n",
      "229:\tlearn: 0.6670559\ttotal: 1.31s\tremaining: 398ms\n",
      "230:\tlearn: 0.6666793\ttotal: 1.31s\tremaining: 392ms\n",
      "231:\tlearn: 0.6665645\ttotal: 1.32s\tremaining: 386ms\n",
      "232:\tlearn: 0.6663121\ttotal: 1.32s\tremaining: 381ms\n",
      "233:\tlearn: 0.6660358\ttotal: 1.33s\tremaining: 375ms\n",
      "234:\tlearn: 0.6658186\ttotal: 1.33s\tremaining: 369ms\n",
      "235:\tlearn: 0.6654950\ttotal: 1.34s\tremaining: 363ms\n",
      "236:\tlearn: 0.6653635\ttotal: 1.34s\tremaining: 358ms\n",
      "237:\tlearn: 0.6651501\ttotal: 1.35s\tremaining: 352ms\n",
      "238:\tlearn: 0.6649676\ttotal: 1.35s\tremaining: 346ms\n",
      "239:\tlearn: 0.6647443\ttotal: 1.36s\tremaining: 340ms\n",
      "240:\tlearn: 0.6646156\ttotal: 1.37s\tremaining: 334ms\n",
      "241:\tlearn: 0.6644916\ttotal: 1.37s\tremaining: 329ms\n",
      "242:\tlearn: 0.6644134\ttotal: 1.38s\tremaining: 323ms\n",
      "243:\tlearn: 0.6642222\ttotal: 1.38s\tremaining: 317ms\n",
      "244:\tlearn: 0.6639145\ttotal: 1.39s\tremaining: 311ms\n",
      "245:\tlearn: 0.6636801\ttotal: 1.39s\tremaining: 306ms\n",
      "246:\tlearn: 0.6632706\ttotal: 1.4s\tremaining: 300ms\n",
      "247:\tlearn: 0.6631025\ttotal: 1.4s\tremaining: 295ms\n",
      "248:\tlearn: 0.6629269\ttotal: 1.41s\tremaining: 289ms\n",
      "249:\tlearn: 0.6627558\ttotal: 1.42s\tremaining: 283ms\n",
      "250:\tlearn: 0.6625230\ttotal: 1.42s\tremaining: 277ms\n",
      "251:\tlearn: 0.6622841\ttotal: 1.43s\tremaining: 272ms\n",
      "252:\tlearn: 0.6620956\ttotal: 1.43s\tremaining: 266ms\n",
      "253:\tlearn: 0.6618617\ttotal: 1.44s\tremaining: 260ms\n",
      "254:\tlearn: 0.6617341\ttotal: 1.44s\tremaining: 254ms\n",
      "255:\tlearn: 0.6615511\ttotal: 1.45s\tremaining: 249ms\n",
      "256:\tlearn: 0.6613594\ttotal: 1.45s\tremaining: 243ms\n",
      "257:\tlearn: 0.6611178\ttotal: 1.46s\tremaining: 238ms\n",
      "258:\tlearn: 0.6608614\ttotal: 1.46s\tremaining: 232ms\n",
      "259:\tlearn: 0.6604988\ttotal: 1.47s\tremaining: 226ms\n",
      "260:\tlearn: 0.6602466\ttotal: 1.48s\tremaining: 220ms\n",
      "261:\tlearn: 0.6599955\ttotal: 1.48s\tremaining: 215ms\n",
      "262:\tlearn: 0.6597054\ttotal: 1.49s\tremaining: 209ms\n",
      "263:\tlearn: 0.6595785\ttotal: 1.49s\tremaining: 203ms\n",
      "264:\tlearn: 0.6593887\ttotal: 1.5s\tremaining: 198ms\n",
      "265:\tlearn: 0.6592600\ttotal: 1.5s\tremaining: 192ms\n",
      "266:\tlearn: 0.6591580\ttotal: 1.51s\tremaining: 186ms\n",
      "267:\tlearn: 0.6589472\ttotal: 1.51s\tremaining: 180ms\n",
      "268:\tlearn: 0.6587035\ttotal: 1.52s\tremaining: 175ms\n",
      "269:\tlearn: 0.6585131\ttotal: 1.52s\tremaining: 169ms\n",
      "270:\tlearn: 0.6582320\ttotal: 1.53s\tremaining: 163ms\n",
      "271:\tlearn: 0.6581307\ttotal: 1.53s\tremaining: 158ms\n",
      "272:\tlearn: 0.6578864\ttotal: 1.54s\tremaining: 152ms\n",
      "273:\tlearn: 0.6577162\ttotal: 1.54s\tremaining: 146ms\n",
      "274:\tlearn: 0.6574203\ttotal: 1.55s\tremaining: 141ms\n",
      "275:\tlearn: 0.6573086\ttotal: 1.55s\tremaining: 135ms\n",
      "276:\tlearn: 0.6570447\ttotal: 1.56s\tremaining: 129ms\n",
      "277:\tlearn: 0.6568172\ttotal: 1.56s\tremaining: 124ms\n",
      "278:\tlearn: 0.6565818\ttotal: 1.57s\tremaining: 118ms\n",
      "279:\tlearn: 0.6564033\ttotal: 1.57s\tremaining: 113ms\n",
      "280:\tlearn: 0.6558969\ttotal: 1.58s\tremaining: 107ms\n",
      "281:\tlearn: 0.6557175\ttotal: 1.59s\tremaining: 101ms\n",
      "282:\tlearn: 0.6554100\ttotal: 1.59s\tremaining: 95.7ms\n",
      "283:\tlearn: 0.6553040\ttotal: 1.6s\tremaining: 90.1ms\n",
      "284:\tlearn: 0.6550741\ttotal: 1.6s\tremaining: 84.4ms\n",
      "285:\tlearn: 0.6547515\ttotal: 1.61s\tremaining: 78.8ms\n",
      "286:\tlearn: 0.6545225\ttotal: 1.61s\tremaining: 73.2ms\n",
      "287:\tlearn: 0.6544488\ttotal: 1.62s\tremaining: 67.5ms\n",
      "288:\tlearn: 0.6542965\ttotal: 1.63s\tremaining: 61.9ms\n",
      "289:\tlearn: 0.6539549\ttotal: 1.63s\tremaining: 56.2ms\n",
      "290:\tlearn: 0.6538154\ttotal: 1.64s\tremaining: 50.6ms\n",
      "291:\tlearn: 0.6536573\ttotal: 1.64s\tremaining: 45ms\n",
      "292:\tlearn: 0.6534931\ttotal: 1.65s\tremaining: 39.4ms\n",
      "293:\tlearn: 0.6533516\ttotal: 1.65s\tremaining: 33.7ms\n",
      "294:\tlearn: 0.6532494\ttotal: 1.66s\tremaining: 28.1ms\n",
      "295:\tlearn: 0.6529555\ttotal: 1.66s\tremaining: 22.5ms\n",
      "296:\tlearn: 0.6527301\ttotal: 1.67s\tremaining: 16.9ms\n",
      "297:\tlearn: 0.6526237\ttotal: 1.67s\tremaining: 11.2ms\n",
      "298:\tlearn: 0.6524011\ttotal: 1.68s\tremaining: 5.61ms\n",
      "299:\tlearn: 0.6522955\ttotal: 1.68s\tremaining: 0us\n"
     ]
    }
   ],
   "source": [
    "model_run.hyper_search('CatBoost', params=CatBoost_params, searcher_kwargs=search_options, set_to_train=True)"
   ]
  },
  {
   "cell_type": "markdown",
   "metadata": {},
   "source": [
    "## Test Models"
   ]
  },
  {
   "cell_type": "code",
   "execution_count": 43,
   "metadata": {},
   "outputs": [
    {
     "data": {
      "text/plain": [
       "0.705993265993266"
      ]
     },
     "execution_count": 43,
     "metadata": {},
     "output_type": "execute_result"
    }
   ],
   "source": [
    "# Gradient Boost\n",
    "gb_model=model_run.get_model('GradientBoost')['model_pipeline']\n",
    "Gradient_Boost = gb_model.score(X=model_run._X_test, y=model_run._y_test)\n",
    "Gradient_Boost"
   ]
  },
  {
   "cell_type": "code",
   "execution_count": 44,
   "metadata": {},
   "outputs": [
    {
     "data": {
      "text/plain": [
       "0.8046464646464646"
      ]
     },
     "execution_count": 44,
     "metadata": {},
     "output_type": "execute_result"
    }
   ],
   "source": [
    "# Gradient Boost 2\n",
    "gb2_model= model_run.get_model('GradientBoost2')['model_pipeline']\n",
    "Gradient_Boost2 = gb2_model.score(X=model_run._X_test, y=model_run._y_test)\n",
    "Gradient_Boost2 "
   ]
  },
  {
   "cell_type": "code",
   "execution_count": 45,
   "metadata": {},
   "outputs": [
    {
     "data": {
      "text/plain": [
       "0.8052525252525252"
      ]
     },
     "execution_count": 45,
     "metadata": {},
     "output_type": "execute_result"
    }
   ],
   "source": [
    "# Gradient Boost 3\n",
    "gb3_model= model_run.get_model('GradientBoost3')['model_pipeline']\n",
    "Gradient_Boost3 = gb3_model.score(X=model_run._X_test, y=model_run._y_test)\n",
    "Gradient_Boost3 "
   ]
  },
  {
   "cell_type": "code",
   "execution_count": 46,
   "metadata": {},
   "outputs": [
    {
     "data": {
      "text/plain": [
       "0.29846332133089515"
      ]
     },
     "execution_count": 46,
     "metadata": {},
     "output_type": "execute_result"
    }
   ],
   "source": [
    "# XGBoost\n",
    "xgb_model= model_run.get_model('XGBoost')['model_pipeline']\n",
    "XG_Boost = xgb_model.score(X=model_run._X_test, y=model_run._y_test)\n",
    "XG_Boost"
   ]
  },
  {
   "cell_type": "code",
   "execution_count": 47,
   "metadata": {},
   "outputs": [
    {
     "data": {
      "text/plain": [
       "0.6808754208754209"
      ]
     },
     "execution_count": 47,
     "metadata": {},
     "output_type": "execute_result"
    }
   ],
   "source": [
    "# CatBoost\n",
    "cb_model= model_run.get_model('CatBoost')['model_pipeline']\n",
    "Cat_Boost = cb_model.score(X=model_run._X_test, y=model_run._y_test)\n",
    "Cat_Boost"
   ]
  },
  {
   "cell_type": "code",
   "execution_count": 48,
   "metadata": {},
   "outputs": [],
   "source": [
    "boost_models = {'Gradient_Boost': 0.705993265993266,\n",
    "    'Gradient_Boost2': 0.8046464646464646,\n",
    "    'Gradient_Boost3': 0.8052525252525252,\n",
    "    'XG_Boost': 0.29846332133089515,\n",
    "    'Cat_Boost': 0.6808754208754209\n",
    "    }"
   ]
  },
  {
   "cell_type": "markdown",
   "metadata": {},
   "source": [
    "## Plotting"
   ]
  },
  {
   "cell_type": "code",
   "execution_count": 40,
   "metadata": {},
   "outputs": [
    {
     "ename": "KeyError",
     "evalue": "'test_output'",
     "output_type": "error",
     "traceback": [
      "\u001b[0;31m---------------------------------------------------------------------------\u001b[0m",
      "\u001b[0;31mKeyError\u001b[0m                                  Traceback (most recent call last)",
      "\u001b[0;32m<ipython-input-40-03995aa7b32b>\u001b[0m in \u001b[0;36m<module>\u001b[0;34m\u001b[0m\n\u001b[0;32m----> 1\u001b[0;31m \u001b[0mmodel_run\u001b[0m\u001b[0;34m.\u001b[0m\u001b[0mplot_models\u001b[0m\u001b[0;34m(\u001b[0m\u001b[0msave\u001b[0m\u001b[0;34m=\u001b[0m\u001b[0;34m'boost_models_graph'\u001b[0m\u001b[0;34m)\u001b[0m\u001b[0;34m\u001b[0m\u001b[0;34m\u001b[0m\u001b[0m\n\u001b[0m",
      "\u001b[0;32m~/Desktop/Tanzania-Well-Project/ourfunctions.py\u001b[0m in \u001b[0;36mplot_models\u001b[0;34m(self, sns_style, sns_context, palette, save, labels)\u001b[0m\n\u001b[1;32m    387\u001b[0m \u001b[0;34m\u001b[0m\u001b[0m\n\u001b[1;32m    388\u001b[0m         \u001b[0mxticklabels\u001b[0m \u001b[0;34m=\u001b[0m \u001b[0;34m[\u001b[0m\u001b[0mlabels\u001b[0m\u001b[0;34m[\u001b[0m\u001b[0mkey\u001b[0m\u001b[0;34m]\u001b[0m \u001b[0;32mfor\u001b[0m \u001b[0mkey\u001b[0m \u001b[0;32min\u001b[0m \u001b[0mself\u001b[0m\u001b[0;34m.\u001b[0m\u001b[0m_models\u001b[0m\u001b[0;34m.\u001b[0m\u001b[0mkeys\u001b[0m\u001b[0;34m(\u001b[0m\u001b[0;34m)\u001b[0m\u001b[0;34m]\u001b[0m \u001b[0;32mif\u001b[0m \u001b[0mlabels\u001b[0m \u001b[0;32melse\u001b[0m \u001b[0mlist\u001b[0m\u001b[0;34m(\u001b[0m\u001b[0mself\u001b[0m\u001b[0;34m.\u001b[0m\u001b[0m_models\u001b[0m\u001b[0;34m.\u001b[0m\u001b[0mkeys\u001b[0m\u001b[0;34m(\u001b[0m\u001b[0;34m)\u001b[0m\u001b[0;34m)\u001b[0m\u001b[0;34m\u001b[0m\u001b[0;34m\u001b[0m\u001b[0m\n\u001b[0;32m--> 389\u001b[0;31m         \u001b[0my\u001b[0m \u001b[0;34m=\u001b[0m \u001b[0;34m[\u001b[0m\u001b[0mmodel\u001b[0m\u001b[0;34m[\u001b[0m\u001b[0;34m'test_output'\u001b[0m\u001b[0;34m]\u001b[0m \u001b[0;32mfor\u001b[0m \u001b[0mmodel\u001b[0m \u001b[0;32min\u001b[0m \u001b[0mself\u001b[0m\u001b[0;34m.\u001b[0m\u001b[0m_models\u001b[0m\u001b[0;34m.\u001b[0m\u001b[0mvalues\u001b[0m\u001b[0;34m(\u001b[0m\u001b[0;34m)\u001b[0m\u001b[0;34m]\u001b[0m\u001b[0;34m\u001b[0m\u001b[0;34m\u001b[0m\u001b[0m\n\u001b[0m\u001b[1;32m    390\u001b[0m \u001b[0;34m\u001b[0m\u001b[0m\n\u001b[1;32m    391\u001b[0m         \u001b[0msns\u001b[0m\u001b[0;34m.\u001b[0m\u001b[0mset_style\u001b[0m\u001b[0;34m(\u001b[0m\u001b[0msns_style\u001b[0m\u001b[0;34m)\u001b[0m\u001b[0;34m\u001b[0m\u001b[0;34m\u001b[0m\u001b[0m\n",
      "\u001b[0;32m~/Desktop/Tanzania-Well-Project/ourfunctions.py\u001b[0m in \u001b[0;36m<listcomp>\u001b[0;34m(.0)\u001b[0m\n\u001b[1;32m    387\u001b[0m \u001b[0;34m\u001b[0m\u001b[0m\n\u001b[1;32m    388\u001b[0m         \u001b[0mxticklabels\u001b[0m \u001b[0;34m=\u001b[0m \u001b[0;34m[\u001b[0m\u001b[0mlabels\u001b[0m\u001b[0;34m[\u001b[0m\u001b[0mkey\u001b[0m\u001b[0;34m]\u001b[0m \u001b[0;32mfor\u001b[0m \u001b[0mkey\u001b[0m \u001b[0;32min\u001b[0m \u001b[0mself\u001b[0m\u001b[0;34m.\u001b[0m\u001b[0m_models\u001b[0m\u001b[0;34m.\u001b[0m\u001b[0mkeys\u001b[0m\u001b[0;34m(\u001b[0m\u001b[0;34m)\u001b[0m\u001b[0;34m]\u001b[0m \u001b[0;32mif\u001b[0m \u001b[0mlabels\u001b[0m \u001b[0;32melse\u001b[0m \u001b[0mlist\u001b[0m\u001b[0;34m(\u001b[0m\u001b[0mself\u001b[0m\u001b[0;34m.\u001b[0m\u001b[0m_models\u001b[0m\u001b[0;34m.\u001b[0m\u001b[0mkeys\u001b[0m\u001b[0;34m(\u001b[0m\u001b[0;34m)\u001b[0m\u001b[0;34m)\u001b[0m\u001b[0;34m\u001b[0m\u001b[0;34m\u001b[0m\u001b[0m\n\u001b[0;32m--> 389\u001b[0;31m         \u001b[0my\u001b[0m \u001b[0;34m=\u001b[0m \u001b[0;34m[\u001b[0m\u001b[0mmodel\u001b[0m\u001b[0;34m[\u001b[0m\u001b[0;34m'test_output'\u001b[0m\u001b[0;34m]\u001b[0m \u001b[0;32mfor\u001b[0m \u001b[0mmodel\u001b[0m \u001b[0;32min\u001b[0m \u001b[0mself\u001b[0m\u001b[0;34m.\u001b[0m\u001b[0m_models\u001b[0m\u001b[0;34m.\u001b[0m\u001b[0mvalues\u001b[0m\u001b[0;34m(\u001b[0m\u001b[0;34m)\u001b[0m\u001b[0;34m]\u001b[0m\u001b[0;34m\u001b[0m\u001b[0;34m\u001b[0m\u001b[0m\n\u001b[0m\u001b[1;32m    390\u001b[0m \u001b[0;34m\u001b[0m\u001b[0m\n\u001b[1;32m    391\u001b[0m         \u001b[0msns\u001b[0m\u001b[0;34m.\u001b[0m\u001b[0mset_style\u001b[0m\u001b[0;34m(\u001b[0m\u001b[0msns_style\u001b[0m\u001b[0;34m)\u001b[0m\u001b[0;34m\u001b[0m\u001b[0;34m\u001b[0m\u001b[0m\n",
      "\u001b[0;31mKeyError\u001b[0m: 'test_output'"
     ]
    }
   ],
   "source": [
    "plot_models(self, sns_style='darkgrid', sns_context='talk', palette='coolwarm', save=None, labels=None):\n",
    "        \"\"\"\n",
    "        Skylar slide style, with thanks to Matt. Has options for seaborn plotting. If you want to save the plot,\n",
    "        give the save option a filename, exactly as would be done with plt.savefig() Labels must be provided as a\n",
    "        dictionary with the model names as keys and the Label you'd like to display as a value.\n",
    "        \"\"\"\n",
    "        logger.removeHandler(c_handler)\n",
    "        logger.removeHandler(f_handler)\n",
    "\n",
    "        xticklabels = [labels[key] for key in self._models.keys()] if labels else list(self._models.keys())\n",
    "        y = [model['test_output'] for model in self._models.values()]\n",
    "\n",
    "        sns.set_style(sns_style)\n",
    "        sns.set_context(sns_context)\n",
    "        fig, ax = plt.subplots(figsize=(20, 10))\n",
    "\n",
    "        fig.set_tight_layout(True)\n",
    "\n",
    "        sns.barplot(x=xticklabels, y=y, palette=palette)\n",
    "        ax.set(ylim=(0, 1))\n",
    "        ax.set_xticklabels(ax.get_xticklabels(), rotation=45, horizontalalignment='right')\n",
    "\n",
    "        # ax2 = ax.twinx()\n",
    "        # sns.lineplot(x=xticklabels, y=x_error, linewidth=5)\n",
    "        # ax2.set(ylim=(0, 300000))\n",
    "        # ax2.set_yticks(np.linspace(0,300000,num=6))\n",
    "        # ax2.set_yticklabels(np.linspace(0,300,num=6,dtype=int))\n",
    "\n",
    "        ax.set_ylabel('Accuracy Score')\n",
    "        # ax2.set_ylabel('Error, USD (thousands)')\n",
    "        ax.set_title('Model Effectiveness');\n",
    "\n",
    "        if save:\n",
    "            plt.savefig(save)"
   ]
  },
  {
   "cell_type": "markdown",
   "metadata": {},
   "source": [
    "## Modeler"
   ]
  },
  {
   "cell_type": "markdown",
   "metadata": {},
   "source": [
    "### Model 1"
   ]
  },
  {
   "cell_type": "code",
   "execution_count": null,
   "metadata": {},
   "outputs": [],
   "source": [
    "model_run.model_evaluation('')"
   ]
  },
  {
   "cell_type": "code",
   "execution_count": null,
   "metadata": {},
   "outputs": [],
   "source": [
    "importance_kwargs = dict(n_repeats=10, n_jobs=3)\n",
    "model_run.permutation_importance('', perm_kwargs=importance_kwargs)"
   ]
  },
  {
   "cell_type": "markdown",
   "metadata": {},
   "source": [
    "### Model 2"
   ]
  },
  {
   "cell_type": "code",
   "execution_count": null,
   "metadata": {},
   "outputs": [],
   "source": [
    "model_run.model_evaluation('')"
   ]
  },
  {
   "cell_type": "code",
   "execution_count": null,
   "metadata": {},
   "outputs": [],
   "source": [
    "importance_kwargs = dict(n_repeats=10, n_jobs=3)\n",
    "model_run.permutation_importance('', perm_kwargs=importance_kwargs)"
   ]
  }
 ],
 "metadata": {
  "interpreter": {
   "hash": "a8985f70e60044e6b9ee20c3abf47b95903615267cecf7f0794b337aafc6df41"
  },
  "kernelspec": {
   "display_name": "Python 3.8.5 64-bit ('learn-env': conda)",
   "language": "python",
   "name": "python3"
  },
  "language_info": {
   "codemirror_mode": {
    "name": "ipython",
    "version": 3
   },
   "file_extension": ".py",
   "mimetype": "text/x-python",
   "name": "python",
   "nbconvert_exporter": "python",
   "pygments_lexer": "ipython3",
   "version": "3.8.5"
  },
  "orig_nbformat": 4
 },
 "nbformat": 4,
 "nbformat_minor": 2
}
